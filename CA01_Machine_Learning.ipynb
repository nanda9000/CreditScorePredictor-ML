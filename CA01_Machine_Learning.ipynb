{
  "nbformat": 4,
  "nbformat_minor": 0,
  "metadata": {
    "colab": {
      "provenance": []
    },
    "kernelspec": {
      "name": "python3",
      "display_name": "Python 3"
    },
    "language_info": {
      "name": "python"
    }
  },
  "cells": [
    {
      "cell_type": "markdown",
      "source": [
        "## **Import Libraries**"
      ],
      "metadata": {
        "id": "GQm5xT3mXqPy"
      }
    },
    {
      "cell_type": "code",
      "execution_count": 1,
      "metadata": {
        "id": "LN1yz_1Fb-t7"
      },
      "outputs": [],
      "source": [
        "import pandas as pd\n",
        "import numpy as np\n",
        "# import math\n",
        "import seaborn as sns\n",
        "# import matplotlib.pyplot as plt\n",
        "\n",
        "from sklearn.preprocessing import LabelEncoder\n",
        "from sklearn.model_selection import train_test_split\n",
        "\n",
        "from sklearn.linear_model import LogisticRegression\n",
        "from sklearn.naive_bayes import GaussianNB\n",
        "from sklearn.svm import SVC\n",
        "\n",
        "from sklearn.metrics import confusion_matrix, classification_report\n",
        "\n",
        "from sklearn.preprocessing import StandardScaler, MinMaxScaler"
      ]
    },
    {
      "cell_type": "code",
      "source": [
        "from google.colab import drive\n",
        "drive.mount('/content/drive')"
      ],
      "metadata": {
        "colab": {
          "base_uri": "https://localhost:8080/"
        },
        "id": "d9-swJi5asRD",
        "outputId": "f6eade27-5063-48b2-940c-9282690f2f99"
      },
      "execution_count": 2,
      "outputs": [
        {
          "output_type": "stream",
          "name": "stdout",
          "text": [
            "Mounted at /content/drive\n"
          ]
        }
      ]
    },
    {
      "cell_type": "markdown",
      "source": [
        "## **Retrieve the Data from csv file**"
      ],
      "metadata": {
        "id": "efFQ4SdDX7xp"
      }
    },
    {
      "cell_type": "code",
      "source": [
        "df = pd.read_csv('/content/drive/MyDrive/MLDataset/CreditScore - Copy.csv')"
      ],
      "metadata": {
        "id": "f6iNvD4lcn1f"
      },
      "execution_count": 3,
      "outputs": []
    },
    {
      "cell_type": "markdown",
      "source": [
        "## **Display the DataFrame**"
      ],
      "metadata": {
        "id": "gP6bkmZOYXnH"
      }
    },
    {
      "cell_type": "code",
      "source": [
        "df.head()"
      ],
      "metadata": {
        "colab": {
          "base_uri": "https://localhost:8080/",
          "height": 342
        },
        "id": "ZdiWHhWFcsnL",
        "outputId": "fdf0da83-4720-408a-db82-cd1e1576fce4"
      },
      "execution_count": 4,
      "outputs": [
        {
          "output_type": "execute_result",
          "data": {
            "text/plain": [
              "     ID  Customer_ID  Month           Name  Age  SSN Occupation  \\\n",
              "0  5634         3392      1  Aaron Maashoh   23  NaN  Scientist   \n",
              "1  5635         3392      2  Aaron Maashoh   23  NaN  Scientist   \n",
              "2  5636         3392      3  Aaron Maashoh   23  NaN  Scientist   \n",
              "3  5637         3392      4  Aaron Maashoh   23  NaN  Scientist   \n",
              "4  5638         3392      5  Aaron Maashoh   23  NaN  Scientist   \n",
              "\n",
              "   Annual_Income  Monthly_Inhand_Salary  Num_Bank_Accounts  ...  Credit_Mix  \\\n",
              "0       19114.12            1824.843333                  3  ...        Good   \n",
              "1       19114.12            1824.843333                  3  ...        Good   \n",
              "2       19114.12            1824.843333                  3  ...        Good   \n",
              "3       19114.12            1824.843333                  3  ...        Good   \n",
              "4       19114.12            1824.843333                  3  ...        Good   \n",
              "\n",
              "   Outstanding_Debt  Credit_Utilization_Ratio Credit_History_Age  \\\n",
              "0            809.98                 26.822620                265   \n",
              "1            809.98                 31.944960                266   \n",
              "2            809.98                 28.609352                267   \n",
              "3            809.98                 31.377862                268   \n",
              "4            809.98                 24.797347                269   \n",
              "\n",
              "   Payment_of_Min_Amount  Total_EMI_per_month  Amount_invested_monthly  \\\n",
              "0                     No            49.574949                 21.46538   \n",
              "1                     No            49.574949                 21.46538   \n",
              "2                     No            49.574949                 21.46538   \n",
              "3                     No            49.574949                 21.46538   \n",
              "4                     No            49.574949                 21.46538   \n",
              "\n",
              "                  Payment_Behaviour Monthly_Balance  Credit_Score  \n",
              "0   High_spent_Small_value_payments      312.494089          Good  \n",
              "1    Low_spent_Large_value_payments      284.629163          Good  \n",
              "2   Low_spent_Medium_value_payments      331.209863          Good  \n",
              "3    Low_spent_Small_value_payments      223.451310          Good  \n",
              "4  High_spent_Medium_value_payments      341.489231          Good  \n",
              "\n",
              "[5 rows x 28 columns]"
            ],
            "text/html": [
              "\n",
              "  <div id=\"df-cbd4830e-12b0-46d6-9b18-1c648b860015\" class=\"colab-df-container\">\n",
              "    <div>\n",
              "<style scoped>\n",
              "    .dataframe tbody tr th:only-of-type {\n",
              "        vertical-align: middle;\n",
              "    }\n",
              "\n",
              "    .dataframe tbody tr th {\n",
              "        vertical-align: top;\n",
              "    }\n",
              "\n",
              "    .dataframe thead th {\n",
              "        text-align: right;\n",
              "    }\n",
              "</style>\n",
              "<table border=\"1\" class=\"dataframe\">\n",
              "  <thead>\n",
              "    <tr style=\"text-align: right;\">\n",
              "      <th></th>\n",
              "      <th>ID</th>\n",
              "      <th>Customer_ID</th>\n",
              "      <th>Month</th>\n",
              "      <th>Name</th>\n",
              "      <th>Age</th>\n",
              "      <th>SSN</th>\n",
              "      <th>Occupation</th>\n",
              "      <th>Annual_Income</th>\n",
              "      <th>Monthly_Inhand_Salary</th>\n",
              "      <th>Num_Bank_Accounts</th>\n",
              "      <th>...</th>\n",
              "      <th>Credit_Mix</th>\n",
              "      <th>Outstanding_Debt</th>\n",
              "      <th>Credit_Utilization_Ratio</th>\n",
              "      <th>Credit_History_Age</th>\n",
              "      <th>Payment_of_Min_Amount</th>\n",
              "      <th>Total_EMI_per_month</th>\n",
              "      <th>Amount_invested_monthly</th>\n",
              "      <th>Payment_Behaviour</th>\n",
              "      <th>Monthly_Balance</th>\n",
              "      <th>Credit_Score</th>\n",
              "    </tr>\n",
              "  </thead>\n",
              "  <tbody>\n",
              "    <tr>\n",
              "      <th>0</th>\n",
              "      <td>5634</td>\n",
              "      <td>3392</td>\n",
              "      <td>1</td>\n",
              "      <td>Aaron Maashoh</td>\n",
              "      <td>23</td>\n",
              "      <td>NaN</td>\n",
              "      <td>Scientist</td>\n",
              "      <td>19114.12</td>\n",
              "      <td>1824.843333</td>\n",
              "      <td>3</td>\n",
              "      <td>...</td>\n",
              "      <td>Good</td>\n",
              "      <td>809.98</td>\n",
              "      <td>26.822620</td>\n",
              "      <td>265</td>\n",
              "      <td>No</td>\n",
              "      <td>49.574949</td>\n",
              "      <td>21.46538</td>\n",
              "      <td>High_spent_Small_value_payments</td>\n",
              "      <td>312.494089</td>\n",
              "      <td>Good</td>\n",
              "    </tr>\n",
              "    <tr>\n",
              "      <th>1</th>\n",
              "      <td>5635</td>\n",
              "      <td>3392</td>\n",
              "      <td>2</td>\n",
              "      <td>Aaron Maashoh</td>\n",
              "      <td>23</td>\n",
              "      <td>NaN</td>\n",
              "      <td>Scientist</td>\n",
              "      <td>19114.12</td>\n",
              "      <td>1824.843333</td>\n",
              "      <td>3</td>\n",
              "      <td>...</td>\n",
              "      <td>Good</td>\n",
              "      <td>809.98</td>\n",
              "      <td>31.944960</td>\n",
              "      <td>266</td>\n",
              "      <td>No</td>\n",
              "      <td>49.574949</td>\n",
              "      <td>21.46538</td>\n",
              "      <td>Low_spent_Large_value_payments</td>\n",
              "      <td>284.629163</td>\n",
              "      <td>Good</td>\n",
              "    </tr>\n",
              "    <tr>\n",
              "      <th>2</th>\n",
              "      <td>5636</td>\n",
              "      <td>3392</td>\n",
              "      <td>3</td>\n",
              "      <td>Aaron Maashoh</td>\n",
              "      <td>23</td>\n",
              "      <td>NaN</td>\n",
              "      <td>Scientist</td>\n",
              "      <td>19114.12</td>\n",
              "      <td>1824.843333</td>\n",
              "      <td>3</td>\n",
              "      <td>...</td>\n",
              "      <td>Good</td>\n",
              "      <td>809.98</td>\n",
              "      <td>28.609352</td>\n",
              "      <td>267</td>\n",
              "      <td>No</td>\n",
              "      <td>49.574949</td>\n",
              "      <td>21.46538</td>\n",
              "      <td>Low_spent_Medium_value_payments</td>\n",
              "      <td>331.209863</td>\n",
              "      <td>Good</td>\n",
              "    </tr>\n",
              "    <tr>\n",
              "      <th>3</th>\n",
              "      <td>5637</td>\n",
              "      <td>3392</td>\n",
              "      <td>4</td>\n",
              "      <td>Aaron Maashoh</td>\n",
              "      <td>23</td>\n",
              "      <td>NaN</td>\n",
              "      <td>Scientist</td>\n",
              "      <td>19114.12</td>\n",
              "      <td>1824.843333</td>\n",
              "      <td>3</td>\n",
              "      <td>...</td>\n",
              "      <td>Good</td>\n",
              "      <td>809.98</td>\n",
              "      <td>31.377862</td>\n",
              "      <td>268</td>\n",
              "      <td>No</td>\n",
              "      <td>49.574949</td>\n",
              "      <td>21.46538</td>\n",
              "      <td>Low_spent_Small_value_payments</td>\n",
              "      <td>223.451310</td>\n",
              "      <td>Good</td>\n",
              "    </tr>\n",
              "    <tr>\n",
              "      <th>4</th>\n",
              "      <td>5638</td>\n",
              "      <td>3392</td>\n",
              "      <td>5</td>\n",
              "      <td>Aaron Maashoh</td>\n",
              "      <td>23</td>\n",
              "      <td>NaN</td>\n",
              "      <td>Scientist</td>\n",
              "      <td>19114.12</td>\n",
              "      <td>1824.843333</td>\n",
              "      <td>3</td>\n",
              "      <td>...</td>\n",
              "      <td>Good</td>\n",
              "      <td>809.98</td>\n",
              "      <td>24.797347</td>\n",
              "      <td>269</td>\n",
              "      <td>No</td>\n",
              "      <td>49.574949</td>\n",
              "      <td>21.46538</td>\n",
              "      <td>High_spent_Medium_value_payments</td>\n",
              "      <td>341.489231</td>\n",
              "      <td>Good</td>\n",
              "    </tr>\n",
              "  </tbody>\n",
              "</table>\n",
              "<p>5 rows × 28 columns</p>\n",
              "</div>\n",
              "    <div class=\"colab-df-buttons\">\n",
              "\n",
              "  <div class=\"colab-df-container\">\n",
              "    <button class=\"colab-df-convert\" onclick=\"convertToInteractive('df-cbd4830e-12b0-46d6-9b18-1c648b860015')\"\n",
              "            title=\"Convert this dataframe to an interactive table.\"\n",
              "            style=\"display:none;\">\n",
              "\n",
              "  <svg xmlns=\"http://www.w3.org/2000/svg\" height=\"24px\" viewBox=\"0 -960 960 960\">\n",
              "    <path d=\"M120-120v-720h720v720H120Zm60-500h600v-160H180v160Zm220 220h160v-160H400v160Zm0 220h160v-160H400v160ZM180-400h160v-160H180v160Zm440 0h160v-160H620v160ZM180-180h160v-160H180v160Zm440 0h160v-160H620v160Z\"/>\n",
              "  </svg>\n",
              "    </button>\n",
              "\n",
              "  <style>\n",
              "    .colab-df-container {\n",
              "      display:flex;\n",
              "      gap: 12px;\n",
              "    }\n",
              "\n",
              "    .colab-df-convert {\n",
              "      background-color: #E8F0FE;\n",
              "      border: none;\n",
              "      border-radius: 50%;\n",
              "      cursor: pointer;\n",
              "      display: none;\n",
              "      fill: #1967D2;\n",
              "      height: 32px;\n",
              "      padding: 0 0 0 0;\n",
              "      width: 32px;\n",
              "    }\n",
              "\n",
              "    .colab-df-convert:hover {\n",
              "      background-color: #E2EBFA;\n",
              "      box-shadow: 0px 1px 2px rgba(60, 64, 67, 0.3), 0px 1px 3px 1px rgba(60, 64, 67, 0.15);\n",
              "      fill: #174EA6;\n",
              "    }\n",
              "\n",
              "    .colab-df-buttons div {\n",
              "      margin-bottom: 4px;\n",
              "    }\n",
              "\n",
              "    [theme=dark] .colab-df-convert {\n",
              "      background-color: #3B4455;\n",
              "      fill: #D2E3FC;\n",
              "    }\n",
              "\n",
              "    [theme=dark] .colab-df-convert:hover {\n",
              "      background-color: #434B5C;\n",
              "      box-shadow: 0px 1px 3px 1px rgba(0, 0, 0, 0.15);\n",
              "      filter: drop-shadow(0px 1px 2px rgba(0, 0, 0, 0.3));\n",
              "      fill: #FFFFFF;\n",
              "    }\n",
              "  </style>\n",
              "\n",
              "    <script>\n",
              "      const buttonEl =\n",
              "        document.querySelector('#df-cbd4830e-12b0-46d6-9b18-1c648b860015 button.colab-df-convert');\n",
              "      buttonEl.style.display =\n",
              "        google.colab.kernel.accessAllowed ? 'block' : 'none';\n",
              "\n",
              "      async function convertToInteractive(key) {\n",
              "        const element = document.querySelector('#df-cbd4830e-12b0-46d6-9b18-1c648b860015');\n",
              "        const dataTable =\n",
              "          await google.colab.kernel.invokeFunction('convertToInteractive',\n",
              "                                                    [key], {});\n",
              "        if (!dataTable) return;\n",
              "\n",
              "        const docLinkHtml = 'Like what you see? Visit the ' +\n",
              "          '<a target=\"_blank\" href=https://colab.research.google.com/notebooks/data_table.ipynb>data table notebook</a>'\n",
              "          + ' to learn more about interactive tables.';\n",
              "        element.innerHTML = '';\n",
              "        dataTable['output_type'] = 'display_data';\n",
              "        await google.colab.output.renderOutput(dataTable, element);\n",
              "        const docLink = document.createElement('div');\n",
              "        docLink.innerHTML = docLinkHtml;\n",
              "        element.appendChild(docLink);\n",
              "      }\n",
              "    </script>\n",
              "  </div>\n",
              "\n",
              "\n",
              "<div id=\"df-25227d22-bced-4cef-97f7-4c458a86e4ba\">\n",
              "  <button class=\"colab-df-quickchart\" onclick=\"quickchart('df-25227d22-bced-4cef-97f7-4c458a86e4ba')\"\n",
              "            title=\"Suggest charts\"\n",
              "            style=\"display:none;\">\n",
              "\n",
              "<svg xmlns=\"http://www.w3.org/2000/svg\" height=\"24px\"viewBox=\"0 0 24 24\"\n",
              "     width=\"24px\">\n",
              "    <g>\n",
              "        <path d=\"M19 3H5c-1.1 0-2 .9-2 2v14c0 1.1.9 2 2 2h14c1.1 0 2-.9 2-2V5c0-1.1-.9-2-2-2zM9 17H7v-7h2v7zm4 0h-2V7h2v10zm4 0h-2v-4h2v4z\"/>\n",
              "    </g>\n",
              "</svg>\n",
              "  </button>\n",
              "\n",
              "<style>\n",
              "  .colab-df-quickchart {\n",
              "      --bg-color: #E8F0FE;\n",
              "      --fill-color: #1967D2;\n",
              "      --hover-bg-color: #E2EBFA;\n",
              "      --hover-fill-color: #174EA6;\n",
              "      --disabled-fill-color: #AAA;\n",
              "      --disabled-bg-color: #DDD;\n",
              "  }\n",
              "\n",
              "  [theme=dark] .colab-df-quickchart {\n",
              "      --bg-color: #3B4455;\n",
              "      --fill-color: #D2E3FC;\n",
              "      --hover-bg-color: #434B5C;\n",
              "      --hover-fill-color: #FFFFFF;\n",
              "      --disabled-bg-color: #3B4455;\n",
              "      --disabled-fill-color: #666;\n",
              "  }\n",
              "\n",
              "  .colab-df-quickchart {\n",
              "    background-color: var(--bg-color);\n",
              "    border: none;\n",
              "    border-radius: 50%;\n",
              "    cursor: pointer;\n",
              "    display: none;\n",
              "    fill: var(--fill-color);\n",
              "    height: 32px;\n",
              "    padding: 0;\n",
              "    width: 32px;\n",
              "  }\n",
              "\n",
              "  .colab-df-quickchart:hover {\n",
              "    background-color: var(--hover-bg-color);\n",
              "    box-shadow: 0 1px 2px rgba(60, 64, 67, 0.3), 0 1px 3px 1px rgba(60, 64, 67, 0.15);\n",
              "    fill: var(--button-hover-fill-color);\n",
              "  }\n",
              "\n",
              "  .colab-df-quickchart-complete:disabled,\n",
              "  .colab-df-quickchart-complete:disabled:hover {\n",
              "    background-color: var(--disabled-bg-color);\n",
              "    fill: var(--disabled-fill-color);\n",
              "    box-shadow: none;\n",
              "  }\n",
              "\n",
              "  .colab-df-spinner {\n",
              "    border: 2px solid var(--fill-color);\n",
              "    border-color: transparent;\n",
              "    border-bottom-color: var(--fill-color);\n",
              "    animation:\n",
              "      spin 1s steps(1) infinite;\n",
              "  }\n",
              "\n",
              "  @keyframes spin {\n",
              "    0% {\n",
              "      border-color: transparent;\n",
              "      border-bottom-color: var(--fill-color);\n",
              "      border-left-color: var(--fill-color);\n",
              "    }\n",
              "    20% {\n",
              "      border-color: transparent;\n",
              "      border-left-color: var(--fill-color);\n",
              "      border-top-color: var(--fill-color);\n",
              "    }\n",
              "    30% {\n",
              "      border-color: transparent;\n",
              "      border-left-color: var(--fill-color);\n",
              "      border-top-color: var(--fill-color);\n",
              "      border-right-color: var(--fill-color);\n",
              "    }\n",
              "    40% {\n",
              "      border-color: transparent;\n",
              "      border-right-color: var(--fill-color);\n",
              "      border-top-color: var(--fill-color);\n",
              "    }\n",
              "    60% {\n",
              "      border-color: transparent;\n",
              "      border-right-color: var(--fill-color);\n",
              "    }\n",
              "    80% {\n",
              "      border-color: transparent;\n",
              "      border-right-color: var(--fill-color);\n",
              "      border-bottom-color: var(--fill-color);\n",
              "    }\n",
              "    90% {\n",
              "      border-color: transparent;\n",
              "      border-bottom-color: var(--fill-color);\n",
              "    }\n",
              "  }\n",
              "</style>\n",
              "\n",
              "  <script>\n",
              "    async function quickchart(key) {\n",
              "      const quickchartButtonEl =\n",
              "        document.querySelector('#' + key + ' button');\n",
              "      quickchartButtonEl.disabled = true;  // To prevent multiple clicks.\n",
              "      quickchartButtonEl.classList.add('colab-df-spinner');\n",
              "      try {\n",
              "        const charts = await google.colab.kernel.invokeFunction(\n",
              "            'suggestCharts', [key], {});\n",
              "      } catch (error) {\n",
              "        console.error('Error during call to suggestCharts:', error);\n",
              "      }\n",
              "      quickchartButtonEl.classList.remove('colab-df-spinner');\n",
              "      quickchartButtonEl.classList.add('colab-df-quickchart-complete');\n",
              "    }\n",
              "    (() => {\n",
              "      let quickchartButtonEl =\n",
              "        document.querySelector('#df-25227d22-bced-4cef-97f7-4c458a86e4ba button');\n",
              "      quickchartButtonEl.style.display =\n",
              "        google.colab.kernel.accessAllowed ? 'block' : 'none';\n",
              "    })();\n",
              "  </script>\n",
              "</div>\n",
              "    </div>\n",
              "  </div>\n"
            ]
          },
          "metadata": {},
          "execution_count": 4
        }
      ]
    },
    {
      "cell_type": "markdown",
      "source": [
        "## **Check the shape of the DataFrame**"
      ],
      "metadata": {
        "id": "qP2-8jjRYi75"
      }
    },
    {
      "cell_type": "code",
      "source": [
        "df.shape"
      ],
      "metadata": {
        "colab": {
          "base_uri": "https://localhost:8080/"
        },
        "id": "9NqvDFhtc3nh",
        "outputId": "153e6a51-3105-4ae8-f98e-b56acfd20525"
      },
      "execution_count": 5,
      "outputs": [
        {
          "output_type": "execute_result",
          "data": {
            "text/plain": [
              "(5000, 28)"
            ]
          },
          "metadata": {},
          "execution_count": 5
        }
      ]
    },
    {
      "cell_type": "markdown",
      "source": [
        "## **Check Information about the DataFrame**"
      ],
      "metadata": {
        "id": "4LQ76ta4ZuPE"
      }
    },
    {
      "cell_type": "code",
      "source": [
        "df.info()"
      ],
      "metadata": {
        "colab": {
          "base_uri": "https://localhost:8080/"
        },
        "id": "wH2aSmIwdGfF",
        "outputId": "e59b9361-5835-4be7-925b-100f6741f72e"
      },
      "execution_count": 6,
      "outputs": [
        {
          "output_type": "stream",
          "name": "stdout",
          "text": [
            "<class 'pandas.core.frame.DataFrame'>\n",
            "RangeIndex: 5000 entries, 0 to 4999\n",
            "Data columns (total 28 columns):\n",
            " #   Column                    Non-Null Count  Dtype  \n",
            "---  ------                    --------------  -----  \n",
            " 0   ID                        5000 non-null   int64  \n",
            " 1   Customer_ID               5000 non-null   int64  \n",
            " 2   Month                     5000 non-null   int64  \n",
            " 3   Name                      5000 non-null   object \n",
            " 4   Age                       5000 non-null   int64  \n",
            " 5   SSN                       2992 non-null   float64\n",
            " 6   Occupation                5000 non-null   object \n",
            " 7   Annual_Income             5000 non-null   float64\n",
            " 8   Monthly_Inhand_Salary     5000 non-null   float64\n",
            " 9   Num_Bank_Accounts         5000 non-null   int64  \n",
            " 10  Num_Credit_Card           5000 non-null   int64  \n",
            " 11  Interest_Rate             5000 non-null   int64  \n",
            " 12  Num_of_Loan               5000 non-null   int64  \n",
            " 13  Type_of_Loan              5000 non-null   object \n",
            " 14  Delay_from_due_date       4766 non-null   float64\n",
            " 15  Num_of_Delayed_Payment    5000 non-null   int64  \n",
            " 16  Changed_Credit_Limit      5000 non-null   float64\n",
            " 17  Num_Credit_Inquiries      5000 non-null   int64  \n",
            " 18  Credit_Mix                5000 non-null   object \n",
            " 19  Outstanding_Debt          5000 non-null   float64\n",
            " 20  Credit_Utilization_Ratio  5000 non-null   float64\n",
            " 21  Credit_History_Age        5000 non-null   int64  \n",
            " 22  Payment_of_Min_Amount     5000 non-null   object \n",
            " 23  Total_EMI_per_month       5000 non-null   float64\n",
            " 24  Amount_invested_monthly   5000 non-null   float64\n",
            " 25  Payment_Behaviour         5000 non-null   object \n",
            " 26  Monthly_Balance           5000 non-null   float64\n",
            " 27  Credit_Score              5000 non-null   object \n",
            "dtypes: float64(10), int64(11), object(7)\n",
            "memory usage: 1.1+ MB\n"
          ]
        }
      ]
    },
    {
      "cell_type": "markdown",
      "source": [
        "## **Check the Description of the DataFrame**"
      ],
      "metadata": {
        "id": "2QISGPyeCRG1"
      }
    },
    {
      "cell_type": "code",
      "source": [
        "# Returns the description of the numerical columns\n",
        "df.describe()"
      ],
      "metadata": {
        "colab": {
          "base_uri": "https://localhost:8080/",
          "height": 349
        },
        "id": "wLxMtZAqCNky",
        "outputId": "349f0295-d123-429b-d96d-2708fe080f34"
      },
      "execution_count": 7,
      "outputs": [
        {
          "output_type": "execute_result",
          "data": {
            "text/plain": [
              "                 ID   Customer_ID        Month          Age           SSN  \\\n",
              "count   5000.000000   5000.000000  5000.000000  5000.000000  2.992000e+03   \n",
              "mean    9381.500000  26089.587200     4.500000    32.599200  4.254078e+08   \n",
              "std     2165.278489  14352.187019     2.291517    10.614212  3.031410e+08   \n",
              "min     5634.000000   1030.000000     1.000000    14.000000  9.242860e+05   \n",
              "25%     7507.750000  14023.000000     2.750000    23.000000  1.475443e+08   \n",
              "50%     9381.500000  25876.000000     4.500000    32.000000  3.787995e+08   \n",
              "75%    11255.250000  39249.000000     6.250000    41.000000  6.983128e+08   \n",
              "max    13129.000000  50979.000000     8.000000    56.000000  9.984789e+08   \n",
              "\n",
              "       Annual_Income  Monthly_Inhand_Salary  Num_Bank_Accounts  \\\n",
              "count    5000.000000            5000.000000        5000.000000   \n",
              "mean    50631.923632            4212.850930           5.343000   \n",
              "std     38364.042964            3182.221120           2.639004   \n",
              "min      7103.035000             468.770000           0.000000   \n",
              "25%     19758.840000            1670.771667           3.000000   \n",
              "50%     36591.250000            3059.936667           6.000000   \n",
              "75%     70112.780000            5886.687500           8.000000   \n",
              "max    177243.920000           14710.533330          10.000000   \n",
              "\n",
              "       Num_Credit_Card  Interest_Rate  ...  Delay_from_due_date  \\\n",
              "count      5000.000000    5000.000000  ...          4766.000000   \n",
              "mean          5.479000      14.358400  ...            19.679606   \n",
              "std           2.019102       8.875635  ...            12.332723   \n",
              "min           0.000000       1.000000  ...             0.000000   \n",
              "25%           4.000000       7.000000  ...            10.000000   \n",
              "50%           5.000000      13.000000  ...            17.000000   \n",
              "75%           7.000000      20.000000  ...            27.000000   \n",
              "max          11.000000      34.000000  ...            54.000000   \n",
              "\n",
              "       Num_of_Delayed_Payment  Changed_Credit_Limit  Num_Credit_Inquiries  \\\n",
              "count             5000.000000           5000.000000           5000.000000   \n",
              "mean                13.326400             10.496744              5.777800   \n",
              "std                  6.327865              6.748481              3.970892   \n",
              "min                  0.000000              0.500000              0.000000   \n",
              "25%                  8.000000              5.320000              2.000000   \n",
              "50%                 14.000000              9.500000              5.000000   \n",
              "75%                 18.000000             15.060000              8.000000   \n",
              "max                 25.000000             29.940000             17.000000   \n",
              "\n",
              "       Outstanding_Debt  Credit_Utilization_Ratio  Credit_History_Age  \\\n",
              "count       5000.000000               5000.000000         5000.000000   \n",
              "mean        1431.563408                 32.314254          221.764000   \n",
              "std         1194.961404                  5.163621           98.171284   \n",
              "min           24.730000                 20.172942            1.000000   \n",
              "25%          518.400000                 27.979514          149.000000   \n",
              "50%         1126.350000                 32.375498          220.000000   \n",
              "75%         2019.510000                 36.611476          303.000000   \n",
              "max         4984.820000                 47.969560          404.000000   \n",
              "\n",
              "       Total_EMI_per_month  Amount_invested_monthly  Monthly_Balance  \n",
              "count          5000.000000              5000.000000      5000.000000  \n",
              "mean            104.770621                56.075463       396.010311  \n",
              "std             127.765275                39.929770       206.442406  \n",
              "min               0.000000                 0.000000         0.688299  \n",
              "25%              27.394667                28.057672       268.281603  \n",
              "50%              65.008174                44.458686       337.798921  \n",
              "75%             138.541977                73.600929       460.750370  \n",
              "max            1320.549063               237.918381      1183.930696  \n",
              "\n",
              "[8 rows x 21 columns]"
            ],
            "text/html": [
              "\n",
              "  <div id=\"df-cd835360-7274-4a03-8811-b1e92299c91b\" class=\"colab-df-container\">\n",
              "    <div>\n",
              "<style scoped>\n",
              "    .dataframe tbody tr th:only-of-type {\n",
              "        vertical-align: middle;\n",
              "    }\n",
              "\n",
              "    .dataframe tbody tr th {\n",
              "        vertical-align: top;\n",
              "    }\n",
              "\n",
              "    .dataframe thead th {\n",
              "        text-align: right;\n",
              "    }\n",
              "</style>\n",
              "<table border=\"1\" class=\"dataframe\">\n",
              "  <thead>\n",
              "    <tr style=\"text-align: right;\">\n",
              "      <th></th>\n",
              "      <th>ID</th>\n",
              "      <th>Customer_ID</th>\n",
              "      <th>Month</th>\n",
              "      <th>Age</th>\n",
              "      <th>SSN</th>\n",
              "      <th>Annual_Income</th>\n",
              "      <th>Monthly_Inhand_Salary</th>\n",
              "      <th>Num_Bank_Accounts</th>\n",
              "      <th>Num_Credit_Card</th>\n",
              "      <th>Interest_Rate</th>\n",
              "      <th>...</th>\n",
              "      <th>Delay_from_due_date</th>\n",
              "      <th>Num_of_Delayed_Payment</th>\n",
              "      <th>Changed_Credit_Limit</th>\n",
              "      <th>Num_Credit_Inquiries</th>\n",
              "      <th>Outstanding_Debt</th>\n",
              "      <th>Credit_Utilization_Ratio</th>\n",
              "      <th>Credit_History_Age</th>\n",
              "      <th>Total_EMI_per_month</th>\n",
              "      <th>Amount_invested_monthly</th>\n",
              "      <th>Monthly_Balance</th>\n",
              "    </tr>\n",
              "  </thead>\n",
              "  <tbody>\n",
              "    <tr>\n",
              "      <th>count</th>\n",
              "      <td>5000.000000</td>\n",
              "      <td>5000.000000</td>\n",
              "      <td>5000.000000</td>\n",
              "      <td>5000.000000</td>\n",
              "      <td>2.992000e+03</td>\n",
              "      <td>5000.000000</td>\n",
              "      <td>5000.000000</td>\n",
              "      <td>5000.000000</td>\n",
              "      <td>5000.000000</td>\n",
              "      <td>5000.000000</td>\n",
              "      <td>...</td>\n",
              "      <td>4766.000000</td>\n",
              "      <td>5000.000000</td>\n",
              "      <td>5000.000000</td>\n",
              "      <td>5000.000000</td>\n",
              "      <td>5000.000000</td>\n",
              "      <td>5000.000000</td>\n",
              "      <td>5000.000000</td>\n",
              "      <td>5000.000000</td>\n",
              "      <td>5000.000000</td>\n",
              "      <td>5000.000000</td>\n",
              "    </tr>\n",
              "    <tr>\n",
              "      <th>mean</th>\n",
              "      <td>9381.500000</td>\n",
              "      <td>26089.587200</td>\n",
              "      <td>4.500000</td>\n",
              "      <td>32.599200</td>\n",
              "      <td>4.254078e+08</td>\n",
              "      <td>50631.923632</td>\n",
              "      <td>4212.850930</td>\n",
              "      <td>5.343000</td>\n",
              "      <td>5.479000</td>\n",
              "      <td>14.358400</td>\n",
              "      <td>...</td>\n",
              "      <td>19.679606</td>\n",
              "      <td>13.326400</td>\n",
              "      <td>10.496744</td>\n",
              "      <td>5.777800</td>\n",
              "      <td>1431.563408</td>\n",
              "      <td>32.314254</td>\n",
              "      <td>221.764000</td>\n",
              "      <td>104.770621</td>\n",
              "      <td>56.075463</td>\n",
              "      <td>396.010311</td>\n",
              "    </tr>\n",
              "    <tr>\n",
              "      <th>std</th>\n",
              "      <td>2165.278489</td>\n",
              "      <td>14352.187019</td>\n",
              "      <td>2.291517</td>\n",
              "      <td>10.614212</td>\n",
              "      <td>3.031410e+08</td>\n",
              "      <td>38364.042964</td>\n",
              "      <td>3182.221120</td>\n",
              "      <td>2.639004</td>\n",
              "      <td>2.019102</td>\n",
              "      <td>8.875635</td>\n",
              "      <td>...</td>\n",
              "      <td>12.332723</td>\n",
              "      <td>6.327865</td>\n",
              "      <td>6.748481</td>\n",
              "      <td>3.970892</td>\n",
              "      <td>1194.961404</td>\n",
              "      <td>5.163621</td>\n",
              "      <td>98.171284</td>\n",
              "      <td>127.765275</td>\n",
              "      <td>39.929770</td>\n",
              "      <td>206.442406</td>\n",
              "    </tr>\n",
              "    <tr>\n",
              "      <th>min</th>\n",
              "      <td>5634.000000</td>\n",
              "      <td>1030.000000</td>\n",
              "      <td>1.000000</td>\n",
              "      <td>14.000000</td>\n",
              "      <td>9.242860e+05</td>\n",
              "      <td>7103.035000</td>\n",
              "      <td>468.770000</td>\n",
              "      <td>0.000000</td>\n",
              "      <td>0.000000</td>\n",
              "      <td>1.000000</td>\n",
              "      <td>...</td>\n",
              "      <td>0.000000</td>\n",
              "      <td>0.000000</td>\n",
              "      <td>0.500000</td>\n",
              "      <td>0.000000</td>\n",
              "      <td>24.730000</td>\n",
              "      <td>20.172942</td>\n",
              "      <td>1.000000</td>\n",
              "      <td>0.000000</td>\n",
              "      <td>0.000000</td>\n",
              "      <td>0.688299</td>\n",
              "    </tr>\n",
              "    <tr>\n",
              "      <th>25%</th>\n",
              "      <td>7507.750000</td>\n",
              "      <td>14023.000000</td>\n",
              "      <td>2.750000</td>\n",
              "      <td>23.000000</td>\n",
              "      <td>1.475443e+08</td>\n",
              "      <td>19758.840000</td>\n",
              "      <td>1670.771667</td>\n",
              "      <td>3.000000</td>\n",
              "      <td>4.000000</td>\n",
              "      <td>7.000000</td>\n",
              "      <td>...</td>\n",
              "      <td>10.000000</td>\n",
              "      <td>8.000000</td>\n",
              "      <td>5.320000</td>\n",
              "      <td>2.000000</td>\n",
              "      <td>518.400000</td>\n",
              "      <td>27.979514</td>\n",
              "      <td>149.000000</td>\n",
              "      <td>27.394667</td>\n",
              "      <td>28.057672</td>\n",
              "      <td>268.281603</td>\n",
              "    </tr>\n",
              "    <tr>\n",
              "      <th>50%</th>\n",
              "      <td>9381.500000</td>\n",
              "      <td>25876.000000</td>\n",
              "      <td>4.500000</td>\n",
              "      <td>32.000000</td>\n",
              "      <td>3.787995e+08</td>\n",
              "      <td>36591.250000</td>\n",
              "      <td>3059.936667</td>\n",
              "      <td>6.000000</td>\n",
              "      <td>5.000000</td>\n",
              "      <td>13.000000</td>\n",
              "      <td>...</td>\n",
              "      <td>17.000000</td>\n",
              "      <td>14.000000</td>\n",
              "      <td>9.500000</td>\n",
              "      <td>5.000000</td>\n",
              "      <td>1126.350000</td>\n",
              "      <td>32.375498</td>\n",
              "      <td>220.000000</td>\n",
              "      <td>65.008174</td>\n",
              "      <td>44.458686</td>\n",
              "      <td>337.798921</td>\n",
              "    </tr>\n",
              "    <tr>\n",
              "      <th>75%</th>\n",
              "      <td>11255.250000</td>\n",
              "      <td>39249.000000</td>\n",
              "      <td>6.250000</td>\n",
              "      <td>41.000000</td>\n",
              "      <td>6.983128e+08</td>\n",
              "      <td>70112.780000</td>\n",
              "      <td>5886.687500</td>\n",
              "      <td>8.000000</td>\n",
              "      <td>7.000000</td>\n",
              "      <td>20.000000</td>\n",
              "      <td>...</td>\n",
              "      <td>27.000000</td>\n",
              "      <td>18.000000</td>\n",
              "      <td>15.060000</td>\n",
              "      <td>8.000000</td>\n",
              "      <td>2019.510000</td>\n",
              "      <td>36.611476</td>\n",
              "      <td>303.000000</td>\n",
              "      <td>138.541977</td>\n",
              "      <td>73.600929</td>\n",
              "      <td>460.750370</td>\n",
              "    </tr>\n",
              "    <tr>\n",
              "      <th>max</th>\n",
              "      <td>13129.000000</td>\n",
              "      <td>50979.000000</td>\n",
              "      <td>8.000000</td>\n",
              "      <td>56.000000</td>\n",
              "      <td>9.984789e+08</td>\n",
              "      <td>177243.920000</td>\n",
              "      <td>14710.533330</td>\n",
              "      <td>10.000000</td>\n",
              "      <td>11.000000</td>\n",
              "      <td>34.000000</td>\n",
              "      <td>...</td>\n",
              "      <td>54.000000</td>\n",
              "      <td>25.000000</td>\n",
              "      <td>29.940000</td>\n",
              "      <td>17.000000</td>\n",
              "      <td>4984.820000</td>\n",
              "      <td>47.969560</td>\n",
              "      <td>404.000000</td>\n",
              "      <td>1320.549063</td>\n",
              "      <td>237.918381</td>\n",
              "      <td>1183.930696</td>\n",
              "    </tr>\n",
              "  </tbody>\n",
              "</table>\n",
              "<p>8 rows × 21 columns</p>\n",
              "</div>\n",
              "    <div class=\"colab-df-buttons\">\n",
              "\n",
              "  <div class=\"colab-df-container\">\n",
              "    <button class=\"colab-df-convert\" onclick=\"convertToInteractive('df-cd835360-7274-4a03-8811-b1e92299c91b')\"\n",
              "            title=\"Convert this dataframe to an interactive table.\"\n",
              "            style=\"display:none;\">\n",
              "\n",
              "  <svg xmlns=\"http://www.w3.org/2000/svg\" height=\"24px\" viewBox=\"0 -960 960 960\">\n",
              "    <path d=\"M120-120v-720h720v720H120Zm60-500h600v-160H180v160Zm220 220h160v-160H400v160Zm0 220h160v-160H400v160ZM180-400h160v-160H180v160Zm440 0h160v-160H620v160ZM180-180h160v-160H180v160Zm440 0h160v-160H620v160Z\"/>\n",
              "  </svg>\n",
              "    </button>\n",
              "\n",
              "  <style>\n",
              "    .colab-df-container {\n",
              "      display:flex;\n",
              "      gap: 12px;\n",
              "    }\n",
              "\n",
              "    .colab-df-convert {\n",
              "      background-color: #E8F0FE;\n",
              "      border: none;\n",
              "      border-radius: 50%;\n",
              "      cursor: pointer;\n",
              "      display: none;\n",
              "      fill: #1967D2;\n",
              "      height: 32px;\n",
              "      padding: 0 0 0 0;\n",
              "      width: 32px;\n",
              "    }\n",
              "\n",
              "    .colab-df-convert:hover {\n",
              "      background-color: #E2EBFA;\n",
              "      box-shadow: 0px 1px 2px rgba(60, 64, 67, 0.3), 0px 1px 3px 1px rgba(60, 64, 67, 0.15);\n",
              "      fill: #174EA6;\n",
              "    }\n",
              "\n",
              "    .colab-df-buttons div {\n",
              "      margin-bottom: 4px;\n",
              "    }\n",
              "\n",
              "    [theme=dark] .colab-df-convert {\n",
              "      background-color: #3B4455;\n",
              "      fill: #D2E3FC;\n",
              "    }\n",
              "\n",
              "    [theme=dark] .colab-df-convert:hover {\n",
              "      background-color: #434B5C;\n",
              "      box-shadow: 0px 1px 3px 1px rgba(0, 0, 0, 0.15);\n",
              "      filter: drop-shadow(0px 1px 2px rgba(0, 0, 0, 0.3));\n",
              "      fill: #FFFFFF;\n",
              "    }\n",
              "  </style>\n",
              "\n",
              "    <script>\n",
              "      const buttonEl =\n",
              "        document.querySelector('#df-cd835360-7274-4a03-8811-b1e92299c91b button.colab-df-convert');\n",
              "      buttonEl.style.display =\n",
              "        google.colab.kernel.accessAllowed ? 'block' : 'none';\n",
              "\n",
              "      async function convertToInteractive(key) {\n",
              "        const element = document.querySelector('#df-cd835360-7274-4a03-8811-b1e92299c91b');\n",
              "        const dataTable =\n",
              "          await google.colab.kernel.invokeFunction('convertToInteractive',\n",
              "                                                    [key], {});\n",
              "        if (!dataTable) return;\n",
              "\n",
              "        const docLinkHtml = 'Like what you see? Visit the ' +\n",
              "          '<a target=\"_blank\" href=https://colab.research.google.com/notebooks/data_table.ipynb>data table notebook</a>'\n",
              "          + ' to learn more about interactive tables.';\n",
              "        element.innerHTML = '';\n",
              "        dataTable['output_type'] = 'display_data';\n",
              "        await google.colab.output.renderOutput(dataTable, element);\n",
              "        const docLink = document.createElement('div');\n",
              "        docLink.innerHTML = docLinkHtml;\n",
              "        element.appendChild(docLink);\n",
              "      }\n",
              "    </script>\n",
              "  </div>\n",
              "\n",
              "\n",
              "<div id=\"df-8b8be08b-74a7-42ea-893a-eff43ed746db\">\n",
              "  <button class=\"colab-df-quickchart\" onclick=\"quickchart('df-8b8be08b-74a7-42ea-893a-eff43ed746db')\"\n",
              "            title=\"Suggest charts\"\n",
              "            style=\"display:none;\">\n",
              "\n",
              "<svg xmlns=\"http://www.w3.org/2000/svg\" height=\"24px\"viewBox=\"0 0 24 24\"\n",
              "     width=\"24px\">\n",
              "    <g>\n",
              "        <path d=\"M19 3H5c-1.1 0-2 .9-2 2v14c0 1.1.9 2 2 2h14c1.1 0 2-.9 2-2V5c0-1.1-.9-2-2-2zM9 17H7v-7h2v7zm4 0h-2V7h2v10zm4 0h-2v-4h2v4z\"/>\n",
              "    </g>\n",
              "</svg>\n",
              "  </button>\n",
              "\n",
              "<style>\n",
              "  .colab-df-quickchart {\n",
              "      --bg-color: #E8F0FE;\n",
              "      --fill-color: #1967D2;\n",
              "      --hover-bg-color: #E2EBFA;\n",
              "      --hover-fill-color: #174EA6;\n",
              "      --disabled-fill-color: #AAA;\n",
              "      --disabled-bg-color: #DDD;\n",
              "  }\n",
              "\n",
              "  [theme=dark] .colab-df-quickchart {\n",
              "      --bg-color: #3B4455;\n",
              "      --fill-color: #D2E3FC;\n",
              "      --hover-bg-color: #434B5C;\n",
              "      --hover-fill-color: #FFFFFF;\n",
              "      --disabled-bg-color: #3B4455;\n",
              "      --disabled-fill-color: #666;\n",
              "  }\n",
              "\n",
              "  .colab-df-quickchart {\n",
              "    background-color: var(--bg-color);\n",
              "    border: none;\n",
              "    border-radius: 50%;\n",
              "    cursor: pointer;\n",
              "    display: none;\n",
              "    fill: var(--fill-color);\n",
              "    height: 32px;\n",
              "    padding: 0;\n",
              "    width: 32px;\n",
              "  }\n",
              "\n",
              "  .colab-df-quickchart:hover {\n",
              "    background-color: var(--hover-bg-color);\n",
              "    box-shadow: 0 1px 2px rgba(60, 64, 67, 0.3), 0 1px 3px 1px rgba(60, 64, 67, 0.15);\n",
              "    fill: var(--button-hover-fill-color);\n",
              "  }\n",
              "\n",
              "  .colab-df-quickchart-complete:disabled,\n",
              "  .colab-df-quickchart-complete:disabled:hover {\n",
              "    background-color: var(--disabled-bg-color);\n",
              "    fill: var(--disabled-fill-color);\n",
              "    box-shadow: none;\n",
              "  }\n",
              "\n",
              "  .colab-df-spinner {\n",
              "    border: 2px solid var(--fill-color);\n",
              "    border-color: transparent;\n",
              "    border-bottom-color: var(--fill-color);\n",
              "    animation:\n",
              "      spin 1s steps(1) infinite;\n",
              "  }\n",
              "\n",
              "  @keyframes spin {\n",
              "    0% {\n",
              "      border-color: transparent;\n",
              "      border-bottom-color: var(--fill-color);\n",
              "      border-left-color: var(--fill-color);\n",
              "    }\n",
              "    20% {\n",
              "      border-color: transparent;\n",
              "      border-left-color: var(--fill-color);\n",
              "      border-top-color: var(--fill-color);\n",
              "    }\n",
              "    30% {\n",
              "      border-color: transparent;\n",
              "      border-left-color: var(--fill-color);\n",
              "      border-top-color: var(--fill-color);\n",
              "      border-right-color: var(--fill-color);\n",
              "    }\n",
              "    40% {\n",
              "      border-color: transparent;\n",
              "      border-right-color: var(--fill-color);\n",
              "      border-top-color: var(--fill-color);\n",
              "    }\n",
              "    60% {\n",
              "      border-color: transparent;\n",
              "      border-right-color: var(--fill-color);\n",
              "    }\n",
              "    80% {\n",
              "      border-color: transparent;\n",
              "      border-right-color: var(--fill-color);\n",
              "      border-bottom-color: var(--fill-color);\n",
              "    }\n",
              "    90% {\n",
              "      border-color: transparent;\n",
              "      border-bottom-color: var(--fill-color);\n",
              "    }\n",
              "  }\n",
              "</style>\n",
              "\n",
              "  <script>\n",
              "    async function quickchart(key) {\n",
              "      const quickchartButtonEl =\n",
              "        document.querySelector('#' + key + ' button');\n",
              "      quickchartButtonEl.disabled = true;  // To prevent multiple clicks.\n",
              "      quickchartButtonEl.classList.add('colab-df-spinner');\n",
              "      try {\n",
              "        const charts = await google.colab.kernel.invokeFunction(\n",
              "            'suggestCharts', [key], {});\n",
              "      } catch (error) {\n",
              "        console.error('Error during call to suggestCharts:', error);\n",
              "      }\n",
              "      quickchartButtonEl.classList.remove('colab-df-spinner');\n",
              "      quickchartButtonEl.classList.add('colab-df-quickchart-complete');\n",
              "    }\n",
              "    (() => {\n",
              "      let quickchartButtonEl =\n",
              "        document.querySelector('#df-8b8be08b-74a7-42ea-893a-eff43ed746db button');\n",
              "      quickchartButtonEl.style.display =\n",
              "        google.colab.kernel.accessAllowed ? 'block' : 'none';\n",
              "    })();\n",
              "  </script>\n",
              "</div>\n",
              "    </div>\n",
              "  </div>\n"
            ]
          },
          "metadata": {},
          "execution_count": 7
        }
      ]
    },
    {
      "cell_type": "markdown",
      "source": [
        "## **Data Pre-processing**"
      ],
      "metadata": {
        "id": "s_8QipbLEM3l"
      }
    },
    {
      "cell_type": "markdown",
      "source": [
        "## Check for Duplicate data"
      ],
      "metadata": {
        "id": "QCNIYicJaoMk"
      }
    },
    {
      "cell_type": "code",
      "source": [
        "df.duplicated().sum()"
      ],
      "metadata": {
        "colab": {
          "base_uri": "https://localhost:8080/"
        },
        "id": "7AzonqJVbP1K",
        "outputId": "ec5f2fe2-ed44-4817-8f6b-fa2bef5285b6"
      },
      "execution_count": 8,
      "outputs": [
        {
          "output_type": "execute_result",
          "data": {
            "text/plain": [
              "0"
            ]
          },
          "metadata": {},
          "execution_count": 8
        }
      ]
    },
    {
      "cell_type": "markdown",
      "source": [
        "## Check **(?, No Data and Not Specified)** value and replace with **nan** in the DataFrame"
      ],
      "metadata": {
        "id": "cs9jaMDXc6kK"
      }
    },
    {
      "cell_type": "code",
      "source": [
        "(df['Occupation'] == '?').sum()"
      ],
      "metadata": {
        "colab": {
          "base_uri": "https://localhost:8080/"
        },
        "id": "WZqE1Sh3DZEw",
        "outputId": "909ed211-487b-41df-bca3-ddbf5d5c6425"
      },
      "execution_count": 9,
      "outputs": [
        {
          "output_type": "execute_result",
          "data": {
            "text/plain": [
              "3112"
            ]
          },
          "metadata": {},
          "execution_count": 9
        }
      ]
    },
    {
      "cell_type": "code",
      "source": [
        "df['Occupation'] = df['Occupation'].replace('?', np.nan)"
      ],
      "metadata": {
        "id": "JBEZyYb5Eb7d"
      },
      "execution_count": 10,
      "outputs": []
    },
    {
      "cell_type": "code",
      "source": [
        "(df['Type_of_Loan'] == \"No Data\").sum()"
      ],
      "metadata": {
        "colab": {
          "base_uri": "https://localhost:8080/"
        },
        "id": "dgud8YrWEeKu",
        "outputId": "86754faf-92d4-4efe-a191-7780e653e1c2"
      },
      "execution_count": 11,
      "outputs": [
        {
          "output_type": "execute_result",
          "data": {
            "text/plain": [
              "632"
            ]
          },
          "metadata": {},
          "execution_count": 11
        }
      ]
    },
    {
      "cell_type": "code",
      "source": [
        "(df['Type_of_Loan'] == 'Not Specified').sum()"
      ],
      "metadata": {
        "colab": {
          "base_uri": "https://localhost:8080/"
        },
        "id": "DsEFeYwOEgxw",
        "outputId": "83c47231-88f3-4f2b-d6d7-43ad82af3d32"
      },
      "execution_count": 12,
      "outputs": [
        {
          "output_type": "execute_result",
          "data": {
            "text/plain": [
              "56"
            ]
          },
          "metadata": {},
          "execution_count": 12
        }
      ]
    },
    {
      "cell_type": "code",
      "source": [
        "df['Type_of_Loan'] = df['Type_of_Loan'].replace(['No Data', 'Not Specified'], np.nan)"
      ],
      "metadata": {
        "id": "dVJ75YOWEjZg"
      },
      "execution_count": 13,
      "outputs": []
    },
    {
      "cell_type": "markdown",
      "source": [
        "## Check for null values in the DataFrame"
      ],
      "metadata": {
        "id": "HOyIInNsdjJ0"
      }
    },
    {
      "cell_type": "code",
      "source": [
        "sns.heatmap(df.isnull())"
      ],
      "metadata": {
        "colab": {
          "base_uri": "https://localhost:8080/",
          "height": 625
        },
        "id": "weCWd4jBEo0p",
        "outputId": "4bfd36b4-19b0-401f-9287-240f903656c5"
      },
      "execution_count": 14,
      "outputs": [
        {
          "output_type": "execute_result",
          "data": {
            "text/plain": [
              "<Axes: >"
            ]
          },
          "metadata": {},
          "execution_count": 14
        },
        {
          "output_type": "display_data",
          "data": {
            "text/plain": [
              "<Figure size 640x480 with 2 Axes>"
            ],
            "image/png": "[encoded data removed]"
          },
          "metadata": {}
        }
      ]
    },
    {
      "cell_type": "markdown",
      "source": [
        "## Display Null Values Percentage for each column"
      ],
      "metadata": {
        "id": "FqzrqAMVd3aq"
      }
    },
    {
      "cell_type": "code",
      "source": [
        "(df.isnull().sum()/len(df) * 100).sort_values(ascending=False)"
      ],
      "metadata": {
        "colab": {
          "base_uri": "https://localhost:8080/"
        },
        "id": "kdZ7kAFrE3bw",
        "outputId": "c093a388-d5f4-4650-80a1-f53022ac9853"
      },
      "execution_count": 15,
      "outputs": [
        {
          "output_type": "execute_result",
          "data": {
            "text/plain": [
              "Occupation                  62.24\n",
              "SSN                         40.16\n",
              "Type_of_Loan                13.76\n",
              "Delay_from_due_date          4.68\n",
              "Changed_Credit_Limit         0.00\n",
              "Monthly_Balance              0.00\n",
              "Payment_Behaviour            0.00\n",
              "Amount_invested_monthly      0.00\n",
              "Total_EMI_per_month          0.00\n",
              "Payment_of_Min_Amount        0.00\n",
              "Credit_History_Age           0.00\n",
              "Credit_Utilization_Ratio     0.00\n",
              "Outstanding_Debt             0.00\n",
              "Credit_Mix                   0.00\n",
              "Num_Credit_Inquiries         0.00\n",
              "ID                           0.00\n",
              "Num_of_Delayed_Payment       0.00\n",
              "Customer_ID                  0.00\n",
              "Num_of_Loan                  0.00\n",
              "Interest_Rate                0.00\n",
              "Num_Credit_Card              0.00\n",
              "Num_Bank_Accounts            0.00\n",
              "Monthly_Inhand_Salary        0.00\n",
              "Annual_Income                0.00\n",
              "Age                          0.00\n",
              "Name                         0.00\n",
              "Month                        0.00\n",
              "Credit_Score                 0.00\n",
              "dtype: float64"
            ]
          },
          "metadata": {},
          "execution_count": 15
        }
      ]
    },
    {
      "cell_type": "markdown",
      "source": [
        "## Drop Non-Numerical Null value columns from the DataFrame"
      ],
      "metadata": {
        "id": "oDoYkPMPFGZY"
      }
    },
    {
      "cell_type": "code",
      "source": [
        "df.drop(['Occupation', 'Type_of_Loan'], axis=1, inplace=True)"
      ],
      "metadata": {
        "id": "czr677mwGAWM"
      },
      "execution_count": 16,
      "outputs": []
    },
    {
      "cell_type": "code",
      "source": [
        "df.shape"
      ],
      "metadata": {
        "colab": {
          "base_uri": "https://localhost:8080/"
        },
        "id": "EtR-0MV0GeBP",
        "outputId": "225e9888-cfed-4d83-f4fa-8cfe5d702ece"
      },
      "execution_count": 17,
      "outputs": [
        {
          "output_type": "execute_result",
          "data": {
            "text/plain": [
              "(5000, 26)"
            ]
          },
          "metadata": {},
          "execution_count": 17
        }
      ]
    },
    {
      "cell_type": "markdown",
      "source": [
        "## Impute Numerical Null value Columns with Mean"
      ],
      "metadata": {
        "id": "spZz9Q3HGjqQ"
      }
    },
    {
      "cell_type": "code",
      "source": [
        "df['SSN'] = df['SSN'].fillna(df['SSN'].mean())\n",
        "df['Delay_from_due_date'] = df['Delay_from_due_date'].fillna(df['Delay_from_due_date'].mean())"
      ],
      "metadata": {
        "id": "EigwH4joGgB3"
      },
      "execution_count": 18,
      "outputs": []
    },
    {
      "cell_type": "code",
      "source": [
        "sns.heatmap(df.isnull())"
      ],
      "metadata": {
        "colab": {
          "base_uri": "https://localhost:8080/",
          "height": 625
        },
        "id": "6uLMCWX7GgJ3",
        "outputId": "1ee9710c-0ba2-4e15-c742-e8a6f5dc5c6d"
      },
      "execution_count": 19,
      "outputs": [
        {
          "output_type": "execute_result",
          "data": {
            "text/plain": [
              "<Axes: >"
            ]
          },
          "metadata": {},
          "execution_count": 19
        },
        {
          "output_type": "display_data",
          "data": {
            "text/plain": [
              "<Figure size 640x480 with 2 Axes>"
            ],
            "image/png": "[encoded data removed]"
          },
          "metadata": {}
        }
      ]
    },
    {
      "cell_type": "markdown",
      "source": [
        "## Visualize the target(output) variable"
      ],
      "metadata": {
        "id": "AAoAY3d2j4jV"
      }
    },
    {
      "cell_type": "code",
      "source": [
        "df['Credit_Score'].value_counts().plot(kind='bar')"
      ],
      "metadata": {
        "colab": {
          "base_uri": "https://localhost:8080/",
          "height": 496
        },
        "id": "1xYDDtL-ixIo",
        "outputId": "fb1dcb04-22ac-4405-dd7b-c478d1a6303f"
      },
      "execution_count": 20,
      "outputs": [
        {
          "output_type": "execute_result",
          "data": {
            "text/plain": [
              "<Axes: >"
            ]
          },
          "metadata": {},
          "execution_count": 20
        },
        {
          "output_type": "display_data",
          "data": {
            "text/plain": [
              "<Figure size 640x480 with 1 Axes>"
            ],
            "image/png": "[encoded data removed]"
          },
          "metadata": {}
        }
      ]
    },
    {
      "cell_type": "markdown",
      "source": [
        "## Set the variable for LabelEncoder"
      ],
      "metadata": {
        "id": "jUJ_wD_FlXUZ"
      }
    },
    {
      "cell_type": "code",
      "source": [
        "le = LabelEncoder()"
      ],
      "metadata": {
        "id": "uKU8-_AjMd0m"
      },
      "execution_count": 21,
      "outputs": []
    },
    {
      "cell_type": "markdown",
      "source": [
        "## Encode output variable"
      ],
      "metadata": {
        "id": "tjkEJe_fFFpt"
      }
    },
    {
      "cell_type": "code",
      "source": [
        "df['Credit_Score'] = le.fit_transform(df['Credit_Score'])"
      ],
      "metadata": {
        "id": "OMqp3nMjNApZ"
      },
      "execution_count": 22,
      "outputs": []
    },
    {
      "cell_type": "markdown",
      "source": [
        "## Visualize the target(output) variable with Encode value"
      ],
      "metadata": {
        "id": "wbIaKTxWmau_"
      }
    },
    {
      "cell_type": "code",
      "source": [
        "df['Credit_Score'].value_counts().plot(kind='bar')"
      ],
      "metadata": {
        "colab": {
          "base_uri": "https://localhost:8080/",
          "height": 442
        },
        "id": "K1uKzmB2NIti",
        "outputId": "b4a61ca1-f5d1-429c-9421-a7c16f102079"
      },
      "execution_count": 23,
      "outputs": [
        {
          "output_type": "execute_result",
          "data": {
            "text/plain": [
              "<Axes: >"
            ]
          },
          "metadata": {},
          "execution_count": 23
        },
        {
          "output_type": "display_data",
          "data": {
            "text/plain": [
              "<Figure size 640x480 with 1 Axes>"
            ],
            "image/png": "[encoded data removed]"
          },
          "metadata": {}
        }
      ]
    },
    {
      "cell_type": "code",
      "source": [
        "df.info()"
      ],
      "metadata": {
        "colab": {
          "base_uri": "https://localhost:8080/"
        },
        "id": "RI2_sEkHNNVv",
        "outputId": "39eb9554-3c9b-49f9-e831-bb95b04fe4df"
      },
      "execution_count": 24,
      "outputs": [
        {
          "output_type": "stream",
          "name": "stdout",
          "text": [
            "<class 'pandas.core.frame.DataFrame'>\n",
            "RangeIndex: 5000 entries, 0 to 4999\n",
            "Data columns (total 26 columns):\n",
            " #   Column                    Non-Null Count  Dtype  \n",
            "---  ------                    --------------  -----  \n",
            " 0   ID                        5000 non-null   int64  \n",
            " 1   Customer_ID               5000 non-null   int64  \n",
            " 2   Month                     5000 non-null   int64  \n",
            " 3   Name                      5000 non-null   object \n",
            " 4   Age                       5000 non-null   int64  \n",
            " 5   SSN                       5000 non-null   float64\n",
            " 6   Annual_Income             5000 non-null   float64\n",
            " 7   Monthly_Inhand_Salary     5000 non-null   float64\n",
            " 8   Num_Bank_Accounts         5000 non-null   int64  \n",
            " 9   Num_Credit_Card           5000 non-null   int64  \n",
            " 10  Interest_Rate             5000 non-null   int64  \n",
            " 11  Num_of_Loan               5000 non-null   int64  \n",
            " 12  Delay_from_due_date       5000 non-null   float64\n",
            " 13  Num_of_Delayed_Payment    5000 non-null   int64  \n",
            " 14  Changed_Credit_Limit      5000 non-null   float64\n",
            " 15  Num_Credit_Inquiries      5000 non-null   int64  \n",
            " 16  Credit_Mix                5000 non-null   object \n",
            " 17  Outstanding_Debt          5000 non-null   float64\n",
            " 18  Credit_Utilization_Ratio  5000 non-null   float64\n",
            " 19  Credit_History_Age        5000 non-null   int64  \n",
            " 20  Payment_of_Min_Amount     5000 non-null   object \n",
            " 21  Total_EMI_per_month       5000 non-null   float64\n",
            " 22  Amount_invested_monthly   5000 non-null   float64\n",
            " 23  Payment_Behaviour         5000 non-null   object \n",
            " 24  Monthly_Balance           5000 non-null   float64\n",
            " 25  Credit_Score              5000 non-null   int64  \n",
            "dtypes: float64(10), int64(12), object(4)\n",
            "memory usage: 1015.8+ KB\n"
          ]
        }
      ]
    },
    {
      "cell_type": "markdown",
      "source": [
        "## Encode Non-Numerical Column value"
      ],
      "metadata": {
        "id": "C3X9UkpSnRQC"
      }
    },
    {
      "cell_type": "code",
      "source": [
        "df['Name'] = le.fit_transform(df['Name'])\n",
        "df['Payment_Behaviour'] = le.fit_transform(df['Payment_Behaviour'])\n",
        "df['Payment_of_Min_Amount'] = le.fit_transform(df['Payment_of_Min_Amount'])\n",
        "df['Credit_Mix'] = le.fit_transform(df['Credit_Mix'])"
      ],
      "metadata": {
        "id": "yxNRyeW5NlhP"
      },
      "execution_count": 25,
      "outputs": []
    },
    {
      "cell_type": "code",
      "source": [
        "df.info()"
      ],
      "metadata": {
        "colab": {
          "base_uri": "https://localhost:8080/"
        },
        "id": "5spY1eCbOdRt",
        "outputId": "01663d35-f17e-48c0-fe21-32845814dd2f"
      },
      "execution_count": 26,
      "outputs": [
        {
          "output_type": "stream",
          "name": "stdout",
          "text": [
            "<class 'pandas.core.frame.DataFrame'>\n",
            "RangeIndex: 5000 entries, 0 to 4999\n",
            "Data columns (total 26 columns):\n",
            " #   Column                    Non-Null Count  Dtype  \n",
            "---  ------                    --------------  -----  \n",
            " 0   ID                        5000 non-null   int64  \n",
            " 1   Customer_ID               5000 non-null   int64  \n",
            " 2   Month                     5000 non-null   int64  \n",
            " 3   Name                      5000 non-null   int64  \n",
            " 4   Age                       5000 non-null   int64  \n",
            " 5   SSN                       5000 non-null   float64\n",
            " 6   Annual_Income             5000 non-null   float64\n",
            " 7   Monthly_Inhand_Salary     5000 non-null   float64\n",
            " 8   Num_Bank_Accounts         5000 non-null   int64  \n",
            " 9   Num_Credit_Card           5000 non-null   int64  \n",
            " 10  Interest_Rate             5000 non-null   int64  \n",
            " 11  Num_of_Loan               5000 non-null   int64  \n",
            " 12  Delay_from_due_date       5000 non-null   float64\n",
            " 13  Num_of_Delayed_Payment    5000 non-null   int64  \n",
            " 14  Changed_Credit_Limit      5000 non-null   float64\n",
            " 15  Num_Credit_Inquiries      5000 non-null   int64  \n",
            " 16  Credit_Mix                5000 non-null   int64  \n",
            " 17  Outstanding_Debt          5000 non-null   float64\n",
            " 18  Credit_Utilization_Ratio  5000 non-null   float64\n",
            " 19  Credit_History_Age        5000 non-null   int64  \n",
            " 20  Payment_of_Min_Amount     5000 non-null   int64  \n",
            " 21  Total_EMI_per_month       5000 non-null   float64\n",
            " 22  Amount_invested_monthly   5000 non-null   float64\n",
            " 23  Payment_Behaviour         5000 non-null   int64  \n",
            " 24  Monthly_Balance           5000 non-null   float64\n",
            " 25  Credit_Score              5000 non-null   int64  \n",
            "dtypes: float64(10), int64(16)\n",
            "memory usage: 1015.8 KB\n"
          ]
        }
      ]
    },
    {
      "cell_type": "markdown",
      "source": [
        "## Visualize the Encoded columns"
      ],
      "metadata": {
        "id": "i2pKxQxxrPJ7"
      }
    },
    {
      "cell_type": "code",
      "source": [
        "df['Payment_Behaviour'].value_counts().plot(kind='bar')"
      ],
      "metadata": {
        "colab": {
          "base_uri": "https://localhost:8080/",
          "height": 442
        },
        "id": "f7f50ZV6P10I",
        "outputId": "fbc9c338-98f5-4c53-ed2d-33e7edc7a3bd"
      },
      "execution_count": 27,
      "outputs": [
        {
          "output_type": "execute_result",
          "data": {
            "text/plain": [
              "<Axes: >"
            ]
          },
          "metadata": {},
          "execution_count": 27
        },
        {
          "output_type": "display_data",
          "data": {
            "text/plain": [
              "<Figure size 640x480 with 1 Axes>"
            ],
            "image/png": "[encoded data removed]"
          },
          "metadata": {}
        }
      ]
    },
    {
      "cell_type": "code",
      "source": [
        "df['Credit_Mix'].value_counts().plot(kind='bar')"
      ],
      "metadata": {
        "colab": {
          "base_uri": "https://localhost:8080/",
          "height": 442
        },
        "id": "1H-4WN4ZrAYf",
        "outputId": "6473c5a0-0c99-4904-ed69-209084adbc35"
      },
      "execution_count": 28,
      "outputs": [
        {
          "output_type": "execute_result",
          "data": {
            "text/plain": [
              "<Axes: >"
            ]
          },
          "metadata": {},
          "execution_count": 28
        },
        {
          "output_type": "display_data",
          "data": {
            "text/plain": [
              "<Figure size 640x480 with 1 Axes>"
            ],
            "image/png": "[encoded data removed]"
          },
          "metadata": {}
        }
      ]
    },
    {
      "cell_type": "code",
      "source": [
        "df['Payment_of_Min_Amount'].value_counts().plot(kind='bar')"
      ],
      "metadata": {
        "colab": {
          "base_uri": "https://localhost:8080/",
          "height": 442
        },
        "id": "wG8Tx6SvRSxw",
        "outputId": "03ad11a0-76a5-4db7-e6d6-9e790eea6d2b"
      },
      "execution_count": 29,
      "outputs": [
        {
          "output_type": "execute_result",
          "data": {
            "text/plain": [
              "<Axes: >"
            ]
          },
          "metadata": {},
          "execution_count": 29
        },
        {
          "output_type": "display_data",
          "data": {
            "text/plain": [
              "<Figure size 640x480 with 1 Axes>"
            ],
            "image/png": "[encoded data removed]"
          },
          "metadata": {}
        }
      ]
    },
    {
      "cell_type": "markdown",
      "source": [
        "## **Separate Dependent and Independent Variables**"
      ],
      "metadata": {
        "id": "e-cjtJSDptm0"
      }
    },
    {
      "cell_type": "code",
      "source": [
        "# get all the Independent Variables\n",
        "X = df.drop(columns=['Credit_Score'])"
      ],
      "metadata": {
        "id": "PomHwQd2Re5i"
      },
      "execution_count": 30,
      "outputs": []
    },
    {
      "cell_type": "code",
      "source": [
        "# get the target(output) variable\n",
        "y = df['Credit_Score']"
      ],
      "metadata": {
        "id": "DD7BsJgfR5zG"
      },
      "execution_count": 31,
      "outputs": []
    },
    {
      "cell_type": "markdown",
      "source": [
        "## **Split the data into train and test**"
      ],
      "metadata": {
        "id": "eSyi9LX7tQeb"
      }
    },
    {
      "cell_type": "code",
      "source": [
        "# Split the Data into train and test using train_test_split method\n",
        "X_train, X_test, y_train, y_test = train_test_split(X, y, test_size=0.2, random_state=42)"
      ],
      "metadata": {
        "id": "CipgitPOSGs2"
      },
      "execution_count": 32,
      "outputs": []
    },
    {
      "cell_type": "markdown",
      "source": [
        "## **Classification Methods**"
      ],
      "metadata": {
        "id": "UUpaXPEMAcn6"
      }
    },
    {
      "cell_type": "markdown",
      "source": [
        "## Logistic Regression"
      ],
      "metadata": {
        "id": "nUH6a-5_AykU"
      }
    },
    {
      "cell_type": "code",
      "source": [
        "def Logis_reg(X_train, X_test, y_train, y_test):\n",
        "  logReg = LogisticRegression()\n",
        "  logReg.fit(X_train, y_train)\n",
        "  y_pred = logReg.predict(X_test)\n",
        "\n",
        "  print(confusion_matrix(y_test, y_pred))\n",
        "  print(classification_report(y_test, y_pred))"
      ],
      "metadata": {
        "id": "C8JqmmePAvam"
      },
      "execution_count": 33,
      "outputs": []
    },
    {
      "cell_type": "markdown",
      "source": [
        "## Gaussian Naive Bayes Classifier"
      ],
      "metadata": {
        "id": "6pgHtTN8BCg6"
      }
    },
    {
      "cell_type": "code",
      "source": [
        "def gaus_class(X_train, X_test, y_train, y_test):\n",
        "  gnb = GaussianNB()\n",
        "  gnb.fit(X_train, y_train)\n",
        "  y_pred = gnb.predict(X_test)\n",
        "\n",
        "  print(confusion_matrix(y_test, y_pred))\n",
        "  print(classification_report(y_test, y_pred))"
      ],
      "metadata": {
        "id": "AN5UIliABMqd"
      },
      "execution_count": 34,
      "outputs": []
    },
    {
      "cell_type": "markdown",
      "source": [
        "## Support Vector Classifier"
      ],
      "metadata": {
        "id": "f4j46vRbCxwa"
      }
    },
    {
      "cell_type": "code",
      "source": [
        "def svcWithOutParam(X_train, X_test, y_train, y_test):\n",
        "  svc = SVC()\n",
        "  svc.fit(X_train, y_train)\n",
        "  y_pred = svc.predict(X_test)\n",
        "\n",
        "  print(confusion_matrix(y_test, y_pred))\n",
        "  print(classification_report(y_test, y_pred))"
      ],
      "metadata": {
        "id": "dIMDGNCRC6j_"
      },
      "execution_count": 35,
      "outputs": []
    },
    {
      "cell_type": "code",
      "source": [
        "def svcWithGamma(X_train, X_test, y_train, y_test):\n",
        "  svc = SVC(gamma='auto')\n",
        "  svc.fit(X_train, y_train)\n",
        "  y_pred = svc.predict(X_test)\n",
        "\n",
        "  print(confusion_matrix(y_test, y_pred))\n",
        "  print(classification_report(y_test, y_pred))"
      ],
      "metadata": {
        "id": "nZY7eoaGDQdJ"
      },
      "execution_count": 36,
      "outputs": []
    },
    {
      "cell_type": "markdown",
      "source": [
        "## **Evaluate the Model with Original Data**"
      ],
      "metadata": {
        "id": "ES_Lg_McEO0Y"
      }
    },
    {
      "cell_type": "code",
      "source": [
        "print(\"Logistic Regression:\")\n",
        "Logis_reg(X_train, X_test, y_train, y_test)\n",
        "print(\"Gaussian Naive Bayes Classifier:\")\n",
        "gaus_class(X_train, X_test, y_train, y_test)\n",
        "print(\"Support Vector Classifier - without Gamma\")\n",
        "svcWithOutParam(X_train, X_test, y_train, y_test)\n",
        "print(\"Support Vector Classifier - with Gamma\")\n",
        "svcWithGamma(X_train, X_test, y_train, y_test)"
      ],
      "metadata": {
        "colab": {
          "base_uri": "https://localhost:8080/"
        },
        "id": "LEbs5YwmFv3m",
        "outputId": "ddb64866-890f-4d69-8369-254fa65992b9"
      },
      "execution_count": 37,
      "outputs": [
        {
          "output_type": "stream",
          "name": "stdout",
          "text": [
            "Logistic Regression:\n",
            "[[  0   0 195]\n",
            " [  0   0 293]\n",
            " [  0   0 512]]\n",
            "              precision    recall  f1-score   support\n",
            "\n",
            "           0       0.00      0.00      0.00       195\n",
            "           1       0.00      0.00      0.00       293\n",
            "           2       0.51      1.00      0.68       512\n",
            "\n",
            "    accuracy                           0.51      1000\n",
            "   macro avg       0.17      0.33      0.23      1000\n",
            "weighted avg       0.26      0.51      0.35      1000\n",
            "\n",
            "Gaussian Naive Bayes Classifier:\n",
            "[[ 38  15 142]\n",
            " [  2  40 251]\n",
            " [ 42  34 436]]\n",
            "              precision    recall  f1-score   support\n",
            "\n",
            "           0       0.46      0.19      0.27       195\n",
            "           1       0.45      0.14      0.21       293\n",
            "           2       0.53      0.85      0.65       512\n",
            "\n",
            "    accuracy                           0.51      1000\n",
            "   macro avg       0.48      0.39      0.38      1000\n",
            "weighted avg       0.49      0.51      0.45      1000\n",
            "\n",
            "Support Vector Classifier - without Gamma\n"
          ]
        },
        {
          "output_type": "stream",
          "name": "stderr",
          "text": [
            "/usr/local/lib/python3.10/dist-packages/sklearn/metrics/_classification.py:1344: UndefinedMetricWarning: Precision and F-score are ill-defined and being set to 0.0 in labels with no predicted samples. Use `zero_division` parameter to control this behavior.\n",
            "  _warn_prf(average, modifier, msg_start, len(result))\n",
            "/usr/local/lib/python3.10/dist-packages/sklearn/metrics/_classification.py:1344: UndefinedMetricWarning: Precision and F-score are ill-defined and being set to 0.0 in labels with no predicted samples. Use `zero_division` parameter to control this behavior.\n",
            "  _warn_prf(average, modifier, msg_start, len(result))\n",
            "/usr/local/lib/python3.10/dist-packages/sklearn/metrics/_classification.py:1344: UndefinedMetricWarning: Precision and F-score are ill-defined and being set to 0.0 in labels with no predicted samples. Use `zero_division` parameter to control this behavior.\n",
            "  _warn_prf(average, modifier, msg_start, len(result))\n"
          ]
        },
        {
          "output_type": "stream",
          "name": "stdout",
          "text": [
            "[[  0   0 195]\n",
            " [  0   0 293]\n",
            " [  0   0 512]]\n",
            "              precision    recall  f1-score   support\n",
            "\n",
            "           0       0.00      0.00      0.00       195\n",
            "           1       0.00      0.00      0.00       293\n",
            "           2       0.51      1.00      0.68       512\n",
            "\n",
            "    accuracy                           0.51      1000\n",
            "   macro avg       0.17      0.33      0.23      1000\n",
            "weighted avg       0.26      0.51      0.35      1000\n",
            "\n",
            "Support Vector Classifier - with Gamma\n"
          ]
        },
        {
          "output_type": "stream",
          "name": "stderr",
          "text": [
            "/usr/local/lib/python3.10/dist-packages/sklearn/metrics/_classification.py:1344: UndefinedMetricWarning: Precision and F-score are ill-defined and being set to 0.0 in labels with no predicted samples. Use `zero_division` parameter to control this behavior.\n",
            "  _warn_prf(average, modifier, msg_start, len(result))\n",
            "/usr/local/lib/python3.10/dist-packages/sklearn/metrics/_classification.py:1344: UndefinedMetricWarning: Precision and F-score are ill-defined and being set to 0.0 in labels with no predicted samples. Use `zero_division` parameter to control this behavior.\n",
            "  _warn_prf(average, modifier, msg_start, len(result))\n",
            "/usr/local/lib/python3.10/dist-packages/sklearn/metrics/_classification.py:1344: UndefinedMetricWarning: Precision and F-score are ill-defined and being set to 0.0 in labels with no predicted samples. Use `zero_division` parameter to control this behavior.\n",
            "  _warn_prf(average, modifier, msg_start, len(result))\n"
          ]
        },
        {
          "output_type": "stream",
          "name": "stdout",
          "text": [
            "[[  0   0 195]\n",
            " [  0   2 291]\n",
            " [  0   0 512]]\n",
            "              precision    recall  f1-score   support\n",
            "\n",
            "           0       0.00      0.00      0.00       195\n",
            "           1       1.00      0.01      0.01       293\n",
            "           2       0.51      1.00      0.68       512\n",
            "\n",
            "    accuracy                           0.51      1000\n",
            "   macro avg       0.50      0.34      0.23      1000\n",
            "weighted avg       0.56      0.51      0.35      1000\n",
            "\n"
          ]
        },
        {
          "output_type": "stream",
          "name": "stderr",
          "text": [
            "/usr/local/lib/python3.10/dist-packages/sklearn/metrics/_classification.py:1344: UndefinedMetricWarning: Precision and F-score are ill-defined and being set to 0.0 in labels with no predicted samples. Use `zero_division` parameter to control this behavior.\n",
            "  _warn_prf(average, modifier, msg_start, len(result))\n",
            "/usr/local/lib/python3.10/dist-packages/sklearn/metrics/_classification.py:1344: UndefinedMetricWarning: Precision and F-score are ill-defined and being set to 0.0 in labels with no predicted samples. Use `zero_division` parameter to control this behavior.\n",
            "  _warn_prf(average, modifier, msg_start, len(result))\n",
            "/usr/local/lib/python3.10/dist-packages/sklearn/metrics/_classification.py:1344: UndefinedMetricWarning: Precision and F-score are ill-defined and being set to 0.0 in labels with no predicted samples. Use `zero_division` parameter to control this behavior.\n",
            "  _warn_prf(average, modifier, msg_start, len(result))\n"
          ]
        }
      ]
    },
    {
      "cell_type": "markdown",
      "source": [
        "## **Scaling the Original Data**"
      ],
      "metadata": {
        "id": "jqkbqk7zNjus"
      }
    },
    {
      "cell_type": "markdown",
      "source": [
        "**Standard Scaler**"
      ],
      "metadata": {
        "id": "_hzs1ZpDPzzP"
      }
    },
    {
      "cell_type": "code",
      "source": [
        "std = StandardScaler()\n",
        "X_std = std.fit_transform(X)\n",
        "\n",
        "# split the data into train and test\n",
        "X_train_std, X_test_std, y_train, y_test = train_test_split(X_std, y, test_size = 0.25, random_state = 42)"
      ],
      "metadata": {
        "id": "zzPUqRrVQQnv"
      },
      "execution_count": 38,
      "outputs": []
    },
    {
      "cell_type": "markdown",
      "source": [
        "**Evaluate the Data with Standard Scaler**"
      ],
      "metadata": {
        "id": "HJpsz1KdQ70c"
      }
    },
    {
      "cell_type": "code",
      "source": [
        "print(\"Logistic Regression:\")\n",
        "Logis_reg(X_train_std, X_test_std, y_train, y_test)\n",
        "print(\"Gaussian Naive Bayes Classifier:\")\n",
        "gaus_class(X_train_std, X_test_std, y_train, y_test)\n",
        "print(\"Support Vector Classifier - without Gamma\")\n",
        "svcWithOutParam(X_train_std, X_test_std, y_train, y_test)\n",
        "print(\"Support Vector Classifier - with Gamma\")\n",
        "svcWithGamma(X_train_std, X_test_std, y_train, y_test)"
      ],
      "metadata": {
        "colab": {
          "base_uri": "https://localhost:8080/"
        },
        "id": "R-usMHi0Q7Nt",
        "outputId": "7b1265a2-e7bb-45aa-f894-6eb36bc300dc"
      },
      "execution_count": 39,
      "outputs": [
        {
          "output_type": "stream",
          "name": "stdout",
          "text": [
            "Logistic Regression:\n",
            "[[153   6  73]\n",
            " [ 27 187 159]\n",
            " [ 85 105 455]]\n",
            "              precision    recall  f1-score   support\n",
            "\n",
            "           0       0.58      0.66      0.62       232\n",
            "           1       0.63      0.50      0.56       373\n",
            "           2       0.66      0.71      0.68       645\n",
            "\n",
            "    accuracy                           0.64      1250\n",
            "   macro avg       0.62      0.62      0.62      1250\n",
            "weighted avg       0.64      0.64      0.63      1250\n",
            "\n",
            "Gaussian Naive Bayes Classifier:\n",
            "[[188   9  35]\n",
            " [ 58 266  49]\n",
            " [154 147 344]]\n",
            "              precision    recall  f1-score   support\n",
            "\n",
            "           0       0.47      0.81      0.59       232\n",
            "           1       0.63      0.71      0.67       373\n",
            "           2       0.80      0.53      0.64       645\n",
            "\n",
            "    accuracy                           0.64      1250\n",
            "   macro avg       0.63      0.69      0.64      1250\n",
            "weighted avg       0.69      0.64      0.64      1250\n",
            "\n",
            "Support Vector Classifier - without Gamma\n",
            "[[186   2  44]\n",
            " [ 28 261  84]\n",
            " [ 86  73 486]]\n",
            "              precision    recall  f1-score   support\n",
            "\n",
            "           0       0.62      0.80      0.70       232\n",
            "           1       0.78      0.70      0.74       373\n",
            "           2       0.79      0.75      0.77       645\n",
            "\n",
            "    accuracy                           0.75      1250\n",
            "   macro avg       0.73      0.75      0.74      1250\n",
            "weighted avg       0.76      0.75      0.75      1250\n",
            "\n",
            "Support Vector Classifier - with Gamma\n",
            "[[186   2  44]\n",
            " [ 28 261  84]\n",
            " [ 87  73 485]]\n",
            "              precision    recall  f1-score   support\n",
            "\n",
            "           0       0.62      0.80      0.70       232\n",
            "           1       0.78      0.70      0.74       373\n",
            "           2       0.79      0.75      0.77       645\n",
            "\n",
            "    accuracy                           0.75      1250\n",
            "   macro avg       0.73      0.75      0.74      1250\n",
            "weighted avg       0.75      0.75      0.75      1250\n",
            "\n"
          ]
        }
      ]
    },
    {
      "cell_type": "markdown",
      "source": [
        "**MinMax Scaling**"
      ],
      "metadata": {
        "id": "TSFQ9q--Rngp"
      }
    },
    {
      "cell_type": "code",
      "source": [
        "min_max = MinMaxScaler()\n",
        "X_mm = min_max.fit_transform(X)\n",
        "\n",
        "X_train_mm, X_test_mm, y_train, y_test = train_test_split(X_mm, y, test_size = 0.25, random_state = 42)"
      ],
      "metadata": {
        "id": "0bMxpx9ySHx9"
      },
      "execution_count": 40,
      "outputs": []
    },
    {
      "cell_type": "markdown",
      "source": [
        "**Evaluate the Data with MinMax Scaling**"
      ],
      "metadata": {
        "id": "9tMmOFprSSeW"
      }
    },
    {
      "cell_type": "code",
      "source": [
        "print(\"Logistic Regression:\")\n",
        "Logis_reg(X_train_mm, X_test_mm, y_train, y_test)\n",
        "print(\"Gaussian Naive Bayes Classifier:\")\n",
        "gaus_class(X_train_mm, X_test_mm, y_train, y_test)\n",
        "print(\"Support Vector Classifier - without Gamma\")\n",
        "svcWithOutParam(X_train_mm, X_test_mm, y_train, y_test)\n",
        "print(\"Support Vector Classifier - with Gamma\")\n",
        "svcWithGamma(X_train_mm, X_test_mm, y_train, y_test)"
      ],
      "metadata": {
        "colab": {
          "base_uri": "https://localhost:8080/"
        },
        "id": "bthruemqSYB0",
        "outputId": "0c892708-e843-47d5-9f83-98093ded11f3"
      },
      "execution_count": 41,
      "outputs": [
        {
          "output_type": "stream",
          "name": "stdout",
          "text": [
            "Logistic Regression:\n",
            "[[150   6  76]\n",
            " [ 27 179 167]\n",
            " [ 85 101 459]]\n",
            "              precision    recall  f1-score   support\n",
            "\n",
            "           0       0.57      0.65      0.61       232\n",
            "           1       0.63      0.48      0.54       373\n",
            "           2       0.65      0.71      0.68       645\n",
            "\n",
            "    accuracy                           0.63      1250\n",
            "   macro avg       0.62      0.61      0.61      1250\n",
            "weighted avg       0.63      0.63      0.63      1250\n",
            "\n",
            "Gaussian Naive Bayes Classifier:\n",
            "[[188   9  35]\n",
            " [ 58 266  49]\n",
            " [154 147 344]]\n",
            "              precision    recall  f1-score   support\n",
            "\n",
            "           0       0.47      0.81      0.59       232\n",
            "           1       0.63      0.71      0.67       373\n",
            "           2       0.80      0.53      0.64       645\n",
            "\n",
            "    accuracy                           0.64      1250\n",
            "   macro avg       0.63      0.69      0.64      1250\n",
            "weighted avg       0.69      0.64      0.64      1250\n",
            "\n",
            "Support Vector Classifier - without Gamma\n"
          ]
        },
        {
          "output_type": "stream",
          "name": "stderr",
          "text": [
            "/usr/local/lib/python3.10/dist-packages/sklearn/linear_model/_logistic.py:458: ConvergenceWarning: lbfgs failed to converge (status=1):\n",
            "STOP: TOTAL NO. of ITERATIONS REACHED LIMIT.\n",
            "\n",
            "Increase the number of iterations (max_iter) or scale the data as shown in:\n",
            "    https://scikit-learn.org/stable/modules/preprocessing.html\n",
            "Please also refer to the documentation for alternative solver options:\n",
            "    https://scikit-learn.org/stable/modules/linear_model.html#logistic-regression\n",
            "  n_iter_i = _check_optimize_result(\n"
          ]
        },
        {
          "output_type": "stream",
          "name": "stdout",
          "text": [
            "[[184   2  46]\n",
            " [ 43 246  84]\n",
            " [100  82 463]]\n",
            "              precision    recall  f1-score   support\n",
            "\n",
            "           0       0.56      0.79      0.66       232\n",
            "           1       0.75      0.66      0.70       373\n",
            "           2       0.78      0.72      0.75       645\n",
            "\n",
            "    accuracy                           0.71      1250\n",
            "   macro avg       0.70      0.72      0.70      1250\n",
            "weighted avg       0.73      0.71      0.72      1250\n",
            "\n",
            "Support Vector Classifier - with Gamma\n",
            "[[179   9  44]\n",
            " [ 59 216  98]\n",
            " [130 129 386]]\n",
            "              precision    recall  f1-score   support\n",
            "\n",
            "           0       0.49      0.77      0.60       232\n",
            "           1       0.61      0.58      0.59       373\n",
            "           2       0.73      0.60      0.66       645\n",
            "\n",
            "    accuracy                           0.62      1250\n",
            "   macro avg       0.61      0.65      0.62      1250\n",
            "weighted avg       0.65      0.62      0.63      1250\n",
            "\n"
          ]
        }
      ]
    },
    {
      "cell_type": "markdown",
      "source": [
        "## **Feature selection using correlation matrix**"
      ],
      "metadata": {
        "id": "8ev_2vxlIx14"
      }
    },
    {
      "cell_type": "code",
      "source": [
        "df.corr()"
      ],
      "metadata": {
        "colab": {
          "base_uri": "https://localhost:8080/",
          "height": 1000
        },
        "id": "p-qjKrAiI3ZC",
        "outputId": "fb86b3f7-48fd-40e9-8aca-085876e9e922"
      },
      "execution_count": 44,
      "outputs": [
        {
          "output_type": "execute_result",
          "data": {
            "text/plain": [
              "                                ID   Customer_ID         Month          Name  \\\n",
              "ID                        1.000000 -1.954565e-02  1.058301e-03 -6.285786e-03   \n",
              "Customer_ID              -0.019546  1.000000e+00  3.250003e-18  1.789478e-02   \n",
              "Month                     0.001058  3.250003e-18  1.000000e+00 -1.770636e-16   \n",
              "Name                     -0.006286  1.789478e-02 -1.770636e-16  1.000000e+00   \n",
              "Age                      -0.004857  1.291413e-02  1.583204e-02  1.171289e-02   \n",
              "SSN                       0.143867 -1.920862e-02 -3.673821e-16  6.788881e-02   \n",
              "Annual_Income            -0.027174 -3.367516e-02  1.311248e-17 -1.656045e-02   \n",
              "Monthly_Inhand_Salary    -0.029466 -3.525161e-02 -1.778674e-03 -1.611193e-02   \n",
              "Num_Bank_Accounts        -0.027597  1.220164e-02  7.112006e-04  4.246584e-02   \n",
              "Num_Credit_Card           0.039671  9.909603e-03  9.295525e-04  1.426410e-02   \n",
              "Interest_Rate            -0.010848  3.168336e-02 -7.687360e-17  7.428802e-02   \n",
              "Num_of_Loan              -0.020547  4.923780e-02 -1.001260e-16  4.587586e-02   \n",
              "Delay_from_due_date       0.020769  6.044018e-02 -1.484690e-03  8.363329e-02   \n",
              "Num_of_Delayed_Payment    0.024493  1.037188e-02 -1.007070e-03  1.585408e-02   \n",
              "Changed_Credit_Limit      0.007636 -4.477962e-02  4.204081e-04  2.299252e-02   \n",
              "Num_Credit_Inquiries      0.045525  3.797653e-02  1.300680e-01  8.386710e-02   \n",
              "Credit_Mix               -0.035526 -6.566079e-02  9.676471e-17 -7.661471e-02   \n",
              "Outstanding_Debt         -0.023955  5.642968e-02 -1.144124e-16  1.075779e-01   \n",
              "Credit_Utilization_Ratio  0.006565  1.779897e-03  5.067020e-03  2.105818e-02   \n",
              "Credit_History_Age       -0.066435 -3.650676e-02  2.314551e-02 -4.886889e-02   \n",
              "Payment_of_Min_Amount     0.000238  2.499045e-03 -1.262762e-03  5.937154e-02   \n",
              "Total_EMI_per_month      -0.076320 -3.726696e-02  4.660093e-02  5.635607e-03   \n",
              "Amount_invested_monthly  -0.034263 -4.334585e-02  9.993111e-17 -3.196744e-02   \n",
              "Payment_Behaviour         0.022559  2.055488e-02  2.473256e-03  3.132824e-02   \n",
              "Monthly_Balance          -0.013366 -2.695743e-03 -4.126756e-03 -8.154812e-03   \n",
              "Credit_Score              0.000804  1.233021e-02 -2.169274e-02  1.558920e-02   \n",
              "\n",
              "                               Age           SSN  Annual_Income  \\\n",
              "ID                       -0.004857  1.438669e-01  -2.717405e-02   \n",
              "Customer_ID               0.012914 -1.920862e-02  -3.367516e-02   \n",
              "Month                     0.015832 -3.673821e-16   1.311248e-17   \n",
              "Name                      0.011713  6.788881e-02  -1.656045e-02   \n",
              "Age                       1.000000 -4.312545e-03  -2.794994e-04   \n",
              "SSN                      -0.004313  1.000000e+00  -3.431406e-02   \n",
              "Annual_Income            -0.000279 -3.431406e-02   1.000000e+00   \n",
              "Monthly_Inhand_Salary     0.003936 -3.406487e-02   9.981569e-01   \n",
              "Num_Bank_Accounts        -0.166051 -1.372611e-02  -2.635417e-01   \n",
              "Num_Credit_Card          -0.091895 -2.877006e-03  -2.178013e-01   \n",
              "Interest_Rate            -0.226336  4.370364e-02  -2.498021e-01   \n",
              "Num_of_Loan              -0.207049 -2.079393e-02  -2.481765e-01   \n",
              "Delay_from_due_date      -0.210248  5.557034e-02  -2.265468e-01   \n",
              "Num_of_Delayed_Payment   -0.160704  6.320463e-02  -2.468916e-01   \n",
              "Changed_Credit_Limit     -0.153037 -1.694097e-02  -1.649106e-01   \n",
              "Num_Credit_Inquiries     -0.179970  4.546101e-02  -2.880429e-01   \n",
              "Credit_Mix                0.106134 -3.258090e-03   5.372062e-02   \n",
              "Outstanding_Debt         -0.176920  7.644114e-03  -2.158505e-01   \n",
              "Credit_Utilization_Ratio  0.001086 -4.866487e-03   1.827644e-01   \n",
              "Credit_History_Age        0.211158 -4.401243e-02   2.773219e-01   \n",
              "Payment_of_Min_Amount    -0.127967  2.287200e-02  -1.790568e-01   \n",
              "Total_EMI_per_month      -0.150443 -6.175285e-02   4.584039e-01   \n",
              "Amount_invested_monthly  -0.002476 -8.528448e-03   8.164683e-01   \n",
              "Payment_Behaviour         0.010127  5.130087e-02  -3.232967e-01   \n",
              "Monthly_Balance           0.072348 -3.946707e-02   6.478215e-01   \n",
              "Credit_Score             -0.074146 -1.615119e-02  -1.312975e-01   \n",
              "\n",
              "                          Monthly_Inhand_Salary  Num_Bank_Accounts  \\\n",
              "ID                                    -0.029466          -0.027597   \n",
              "Customer_ID                           -0.035252           0.012202   \n",
              "Month                                 -0.001779           0.000711   \n",
              "Name                                  -0.016112           0.042466   \n",
              "Age                                    0.003936          -0.166051   \n",
              "SSN                                   -0.034065          -0.013726   \n",
              "Annual_Income                          0.998157          -0.263542   \n",
              "Monthly_Inhand_Salary                  1.000000          -0.264684   \n",
              "Num_Bank_Accounts                     -0.264684           1.000000   \n",
              "Num_Credit_Card                       -0.221700           0.394324   \n",
              "Interest_Rate                         -0.254311           0.591997   \n",
              "Num_of_Loan                           -0.250810           0.514965   \n",
              "Delay_from_due_date                   -0.226742           0.507263   \n",
              "Num_of_Delayed_Payment                -0.248438           0.621556   \n",
              "Changed_Credit_Limit                  -0.170780           0.375298   \n",
              "Num_Credit_Inquiries                  -0.290511           0.533775   \n",
              "Credit_Mix                             0.053764          -0.218992   \n",
              "Outstanding_Debt                      -0.221051           0.523218   \n",
              "Credit_Utilization_Ratio               0.182328          -0.063209   \n",
              "Credit_History_Age                     0.278384          -0.467661   \n",
              "Payment_of_Min_Amount                 -0.182084           0.359767   \n",
              "Total_EMI_per_month                    0.441890           0.120695   \n",
              "Amount_invested_monthly                0.818633          -0.207338   \n",
              "Payment_Behaviour                     -0.324389           0.078491   \n",
              "Monthly_Balance                        0.650205          -0.306618   \n",
              "Credit_Score                          -0.132084           0.195651   \n",
              "\n",
              "                          Num_Credit_Card  ...    Credit_Mix  \\\n",
              "ID                               0.039671  ... -3.552595e-02   \n",
              "Customer_ID                      0.009910  ... -6.566079e-02   \n",
              "Month                            0.000930  ...  9.676471e-17   \n",
              "Name                             0.014264  ... -7.661471e-02   \n",
              "Age                             -0.091895  ...  1.061344e-01   \n",
              "SSN                             -0.002877  ... -3.258090e-03   \n",
              "Annual_Income                   -0.217801  ...  5.372062e-02   \n",
              "Monthly_Inhand_Salary           -0.221700  ...  5.376391e-02   \n",
              "Num_Bank_Accounts                0.394324  ... -2.189922e-01   \n",
              "Num_Credit_Card                  1.000000  ... -3.214975e-01   \n",
              "Interest_Rate                    0.440979  ... -3.236322e-01   \n",
              "Num_of_Loan                      0.430524  ... -4.564145e-01   \n",
              "Delay_from_due_date              0.376495  ... -3.141367e-01   \n",
              "Num_of_Delayed_Payment           0.387258  ... -2.249928e-01   \n",
              "Changed_Credit_Limit             0.275686  ... -9.005899e-02   \n",
              "Num_Credit_Inquiries             0.470811  ... -3.560415e-01   \n",
              "Credit_Mix                      -0.321497  ...  1.000000e+00   \n",
              "Outstanding_Debt                 0.485331  ... -6.054409e-01   \n",
              "Credit_Utilization_Ratio        -0.065103  ...  3.021885e-02   \n",
              "Credit_History_Age              -0.400863  ...  3.372241e-01   \n",
              "Payment_of_Min_Amount            0.248153  ... -5.664530e-03   \n",
              "Total_EMI_per_month              0.096324  ... -1.711120e-01   \n",
              "Amount_invested_monthly         -0.182993  ...  3.704080e-02   \n",
              "Payment_Behaviour                0.087833  ... -4.575073e-02   \n",
              "Monthly_Balance                 -0.266478  ...  1.668723e-01   \n",
              "Credit_Score                     0.101762  ...  2.381251e-01   \n",
              "\n",
              "                          Outstanding_Debt  Credit_Utilization_Ratio  \\\n",
              "ID                           -2.395503e-02                  0.006565   \n",
              "Customer_ID                   5.642968e-02                  0.001780   \n",
              "Month                        -1.144124e-16                  0.005067   \n",
              "Name                          1.075779e-01                  0.021058   \n",
              "Age                          -1.769203e-01                  0.001086   \n",
              "SSN                           7.644114e-03                 -0.004866   \n",
              "Annual_Income                -2.158505e-01                  0.182764   \n",
              "Monthly_Inhand_Salary        -2.210510e-01                  0.182328   \n",
              "Num_Bank_Accounts             5.232181e-01                 -0.063209   \n",
              "Num_Credit_Card               4.853315e-01                 -0.065103   \n",
              "Interest_Rate                 6.349006e-01                 -0.047734   \n",
              "Num_of_Loan                   6.489116e-01                 -0.075435   \n",
              "Delay_from_due_date           5.200649e-01                 -0.041832   \n",
              "Num_of_Delayed_Payment        4.893406e-01                 -0.070771   \n",
              "Changed_Credit_Limit          5.075595e-01                 -0.033058   \n",
              "Num_Credit_Inquiries          6.150850e-01                 -0.064715   \n",
              "Credit_Mix                   -6.054409e-01                  0.030219   \n",
              "Outstanding_Debt              1.000000e+00                 -0.047591   \n",
              "Credit_Utilization_Ratio     -4.759149e-02                  1.000000   \n",
              "Credit_History_Age           -6.137359e-01                  0.072829   \n",
              "Payment_of_Min_Amount         3.111425e-01                 -0.062961   \n",
              "Total_EMI_per_month           2.166515e-01                  0.030222   \n",
              "Amount_invested_monthly      -1.677184e-01                  0.130640   \n",
              "Payment_Behaviour             8.873537e-02                 -0.109595   \n",
              "Monthly_Balance              -3.202324e-01                  0.227217   \n",
              "Credit_Score                  6.999007e-02                 -0.018721   \n",
              "\n",
              "                          Credit_History_Age  Payment_of_Min_Amount  \\\n",
              "ID                                 -0.066435               0.000238   \n",
              "Customer_ID                        -0.036507               0.002499   \n",
              "Month                               0.023146              -0.001263   \n",
              "Name                               -0.048869               0.059372   \n",
              "Age                                 0.211158              -0.127967   \n",
              "SSN                                -0.044012               0.022872   \n",
              "Annual_Income                       0.277322              -0.179057   \n",
              "Monthly_Inhand_Salary               0.278384              -0.182084   \n",
              "Num_Bank_Accounts                  -0.467661               0.359767   \n",
              "Num_Credit_Card                    -0.400863               0.248153   \n",
              "Interest_Rate                      -0.574571               0.421541   \n",
              "Num_of_Loan                        -0.622485               0.319493   \n",
              "Delay_from_due_date                -0.458276               0.313643   \n",
              "Num_of_Delayed_Payment             -0.490298               0.405919   \n",
              "Changed_Credit_Limit               -0.457624               0.352388   \n",
              "Num_Credit_Inquiries               -0.589777               0.395267   \n",
              "Credit_Mix                          0.337224              -0.005665   \n",
              "Outstanding_Debt                   -0.613736               0.311142   \n",
              "Credit_Utilization_Ratio            0.072829              -0.062961   \n",
              "Credit_History_Age                  1.000000              -0.358471   \n",
              "Payment_of_Min_Amount              -0.358471               1.000000   \n",
              "Total_EMI_per_month                -0.146488               0.073561   \n",
              "Amount_invested_monthly             0.203339              -0.149510   \n",
              "Payment_Behaviour                  -0.102846               0.072928   \n",
              "Monthly_Balance                     0.341085              -0.201731   \n",
              "Credit_Score                       -0.146139               0.214145   \n",
              "\n",
              "                          Total_EMI_per_month  Amount_invested_monthly  \\\n",
              "ID                                  -0.076320            -3.426321e-02   \n",
              "Customer_ID                         -0.037267            -4.334585e-02   \n",
              "Month                                0.046601             9.993111e-17   \n",
              "Name                                 0.005636            -3.196744e-02   \n",
              "Age                                 -0.150443            -2.475978e-03   \n",
              "SSN                                 -0.061753            -8.528448e-03   \n",
              "Annual_Income                        0.458404             8.164683e-01   \n",
              "Monthly_Inhand_Salary                0.441890             8.186332e-01   \n",
              "Num_Bank_Accounts                    0.120695            -2.073384e-01   \n",
              "Num_Credit_Card                      0.096324            -1.829931e-01   \n",
              "Interest_Rate                        0.176976            -1.974552e-01   \n",
              "Num_of_Loan                          0.383503            -1.677246e-01   \n",
              "Delay_from_due_date                  0.140604            -1.696053e-01   \n",
              "Num_of_Delayed_Payment               0.140019            -1.745333e-01   \n",
              "Changed_Credit_Limit                 0.129247            -1.283698e-01   \n",
              "Num_Credit_Inquiries                 0.119777            -2.227278e-01   \n",
              "Credit_Mix                          -0.171112             3.704080e-02   \n",
              "Outstanding_Debt                     0.216651            -1.677184e-01   \n",
              "Credit_Utilization_Ratio             0.030222             1.306401e-01   \n",
              "Credit_History_Age                  -0.146488             2.033391e-01   \n",
              "Payment_of_Min_Amount                0.073561            -1.495101e-01   \n",
              "Total_EMI_per_month                  1.000000             4.094078e-01   \n",
              "Amount_invested_monthly              0.409408             1.000000e+00   \n",
              "Payment_Behaviour                   -0.162612            -2.208375e-01   \n",
              "Monthly_Balance                      0.066338             5.073939e-01   \n",
              "Credit_Score                        -0.018127            -1.099980e-01   \n",
              "\n",
              "                          Payment_Behaviour  Monthly_Balance  Credit_Score  \n",
              "ID                                 0.022559        -0.013366      0.000804  \n",
              "Customer_ID                        0.020555        -0.002696      0.012330  \n",
              "Month                              0.002473        -0.004127     -0.021693  \n",
              "Name                               0.031328        -0.008155      0.015589  \n",
              "Age                                0.010127         0.072348     -0.074146  \n",
              "SSN                                0.051301        -0.039467     -0.016151  \n",
              "Annual_Income                     -0.323297         0.647821     -0.131297  \n",
              "Monthly_Inhand_Salary             -0.324389         0.650205     -0.132084  \n",
              "Num_Bank_Accounts                  0.078491        -0.306618      0.195651  \n",
              "Num_Credit_Card                    0.087833        -0.266478      0.101762  \n",
              "Interest_Rate                      0.105250        -0.321119      0.144444  \n",
              "Num_of_Loan                        0.107236        -0.445374      0.125613  \n",
              "Delay_from_due_date                0.072216        -0.273412      0.155115  \n",
              "Num_of_Delayed_Payment             0.067878        -0.290155      0.243352  \n",
              "Changed_Credit_Limit               0.056416        -0.206424      0.228017  \n",
              "Num_Credit_Inquiries               0.102295        -0.329569      0.104777  \n",
              "Credit_Mix                        -0.045751         0.166872      0.238125  \n",
              "Outstanding_Debt                   0.088735        -0.320232      0.069990  \n",
              "Credit_Utilization_Ratio          -0.109595         0.227217     -0.018721  \n",
              "Credit_History_Age                -0.102846         0.341085     -0.146139  \n",
              "Payment_of_Min_Amount              0.072928        -0.201731      0.214145  \n",
              "Total_EMI_per_month               -0.162612         0.066338     -0.018127  \n",
              "Amount_invested_monthly           -0.220837         0.507394     -0.109998  \n",
              "Payment_Behaviour                  1.000000        -0.513834      0.039874  \n",
              "Monthly_Balance                   -0.513834         1.000000     -0.117301  \n",
              "Credit_Score                       0.039874        -0.117301      1.000000  \n",
              "\n",
              "[26 rows x 26 columns]"
            ],
            "text/html": [
              "\n",
              "  <div id=\"df-95e95f47-be0e-4e66-a07e-d841503e5bf5\" class=\"colab-df-container\">\n",
              "    <div>\n",
              "<style scoped>\n",
              "    .dataframe tbody tr th:only-of-type {\n",
              "        vertical-align: middle;\n",
              "    }\n",
              "\n",
              "    .dataframe tbody tr th {\n",
              "        vertical-align: top;\n",
              "    }\n",
              "\n",
              "    .dataframe thead th {\n",
              "        text-align: right;\n",
              "    }\n",
              "</style>\n",
              "<table border=\"1\" class=\"dataframe\">\n",
              "  <thead>\n",
              "    <tr style=\"text-align: right;\">\n",
              "      <th></th>\n",
              "      <th>ID</th>\n",
              "      <th>Customer_ID</th>\n",
              "      <th>Month</th>\n",
              "      <th>Name</th>\n",
              "      <th>Age</th>\n",
              "      <th>SSN</th>\n",
              "      <th>Annual_Income</th>\n",
              "      <th>Monthly_Inhand_Salary</th>\n",
              "      <th>Num_Bank_Accounts</th>\n",
              "      <th>Num_Credit_Card</th>\n",
              "      <th>...</th>\n",
              "      <th>Credit_Mix</th>\n",
              "      <th>Outstanding_Debt</th>\n",
              "      <th>Credit_Utilization_Ratio</th>\n",
              "      <th>Credit_History_Age</th>\n",
              "      <th>Payment_of_Min_Amount</th>\n",
              "      <th>Total_EMI_per_month</th>\n",
              "      <th>Amount_invested_monthly</th>\n",
              "      <th>Payment_Behaviour</th>\n",
              "      <th>Monthly_Balance</th>\n",
              "      <th>Credit_Score</th>\n",
              "    </tr>\n",
              "  </thead>\n",
              "  <tbody>\n",
              "    <tr>\n",
              "      <th>ID</th>\n",
              "      <td>1.000000</td>\n",
              "      <td>-1.954565e-02</td>\n",
              "      <td>1.058301e-03</td>\n",
              "      <td>-6.285786e-03</td>\n",
              "      <td>-0.004857</td>\n",
              "      <td>1.438669e-01</td>\n",
              "      <td>-2.717405e-02</td>\n",
              "      <td>-0.029466</td>\n",
              "      <td>-0.027597</td>\n",
              "      <td>0.039671</td>\n",
              "      <td>...</td>\n",
              "      <td>-3.552595e-02</td>\n",
              "      <td>-2.395503e-02</td>\n",
              "      <td>0.006565</td>\n",
              "      <td>-0.066435</td>\n",
              "      <td>0.000238</td>\n",
              "      <td>-0.076320</td>\n",
              "      <td>-3.426321e-02</td>\n",
              "      <td>0.022559</td>\n",
              "      <td>-0.013366</td>\n",
              "      <td>0.000804</td>\n",
              "    </tr>\n",
              "    <tr>\n",
              "      <th>Customer_ID</th>\n",
              "      <td>-0.019546</td>\n",
              "      <td>1.000000e+00</td>\n",
              "      <td>3.250003e-18</td>\n",
              "      <td>1.789478e-02</td>\n",
              "      <td>0.012914</td>\n",
              "      <td>-1.920862e-02</td>\n",
              "      <td>-3.367516e-02</td>\n",
              "      <td>-0.035252</td>\n",
              "      <td>0.012202</td>\n",
              "      <td>0.009910</td>\n",
              "      <td>...</td>\n",
              "      <td>-6.566079e-02</td>\n",
              "      <td>5.642968e-02</td>\n",
              "      <td>0.001780</td>\n",
              "      <td>-0.036507</td>\n",
              "      <td>0.002499</td>\n",
              "      <td>-0.037267</td>\n",
              "      <td>-4.334585e-02</td>\n",
              "      <td>0.020555</td>\n",
              "      <td>-0.002696</td>\n",
              "      <td>0.012330</td>\n",
              "    </tr>\n",
              "    <tr>\n",
              "      <th>Month</th>\n",
              "      <td>0.001058</td>\n",
              "      <td>3.250003e-18</td>\n",
              "      <td>1.000000e+00</td>\n",
              "      <td>-1.770636e-16</td>\n",
              "      <td>0.015832</td>\n",
              "      <td>-3.673821e-16</td>\n",
              "      <td>1.311248e-17</td>\n",
              "      <td>-0.001779</td>\n",
              "      <td>0.000711</td>\n",
              "      <td>0.000930</td>\n",
              "      <td>...</td>\n",
              "      <td>9.676471e-17</td>\n",
              "      <td>-1.144124e-16</td>\n",
              "      <td>0.005067</td>\n",
              "      <td>0.023146</td>\n",
              "      <td>-0.001263</td>\n",
              "      <td>0.046601</td>\n",
              "      <td>9.993111e-17</td>\n",
              "      <td>0.002473</td>\n",
              "      <td>-0.004127</td>\n",
              "      <td>-0.021693</td>\n",
              "    </tr>\n",
              "    <tr>\n",
              "      <th>Name</th>\n",
              "      <td>-0.006286</td>\n",
              "      <td>1.789478e-02</td>\n",
              "      <td>-1.770636e-16</td>\n",
              "      <td>1.000000e+00</td>\n",
              "      <td>0.011713</td>\n",
              "      <td>6.788881e-02</td>\n",
              "      <td>-1.656045e-02</td>\n",
              "      <td>-0.016112</td>\n",
              "      <td>0.042466</td>\n",
              "      <td>0.014264</td>\n",
              "      <td>...</td>\n",
              "      <td>-7.661471e-02</td>\n",
              "      <td>1.075779e-01</td>\n",
              "      <td>0.021058</td>\n",
              "      <td>-0.048869</td>\n",
              "      <td>0.059372</td>\n",
              "      <td>0.005636</td>\n",
              "      <td>-3.196744e-02</td>\n",
              "      <td>0.031328</td>\n",
              "      <td>-0.008155</td>\n",
              "      <td>0.015589</td>\n",
              "    </tr>\n",
              "    <tr>\n",
              "      <th>Age</th>\n",
              "      <td>-0.004857</td>\n",
              "      <td>1.291413e-02</td>\n",
              "      <td>1.583204e-02</td>\n",
              "      <td>1.171289e-02</td>\n",
              "      <td>1.000000</td>\n",
              "      <td>-4.312545e-03</td>\n",
              "      <td>-2.794994e-04</td>\n",
              "      <td>0.003936</td>\n",
              "      <td>-0.166051</td>\n",
              "      <td>-0.091895</td>\n",
              "      <td>...</td>\n",
              "      <td>1.061344e-01</td>\n",
              "      <td>-1.769203e-01</td>\n",
              "      <td>0.001086</td>\n",
              "      <td>0.211158</td>\n",
              "      <td>-0.127967</td>\n",
              "      <td>-0.150443</td>\n",
              "      <td>-2.475978e-03</td>\n",
              "      <td>0.010127</td>\n",
              "      <td>0.072348</td>\n",
              "      <td>-0.074146</td>\n",
              "    </tr>\n",
              "    <tr>\n",
              "      <th>SSN</th>\n",
              "      <td>0.143867</td>\n",
              "      <td>-1.920862e-02</td>\n",
              "      <td>-3.673821e-16</td>\n",
              "      <td>6.788881e-02</td>\n",
              "      <td>-0.004313</td>\n",
              "      <td>1.000000e+00</td>\n",
              "      <td>-3.431406e-02</td>\n",
              "      <td>-0.034065</td>\n",
              "      <td>-0.013726</td>\n",
              "      <td>-0.002877</td>\n",
              "      <td>...</td>\n",
              "      <td>-3.258090e-03</td>\n",
              "      <td>7.644114e-03</td>\n",
              "      <td>-0.004866</td>\n",
              "      <td>-0.044012</td>\n",
              "      <td>0.022872</td>\n",
              "      <td>-0.061753</td>\n",
              "      <td>-8.528448e-03</td>\n",
              "      <td>0.051301</td>\n",
              "      <td>-0.039467</td>\n",
              "      <td>-0.016151</td>\n",
              "    </tr>\n",
              "    <tr>\n",
              "      <th>Annual_Income</th>\n",
              "      <td>-0.027174</td>\n",
              "      <td>-3.367516e-02</td>\n",
              "      <td>1.311248e-17</td>\n",
              "      <td>-1.656045e-02</td>\n",
              "      <td>-0.000279</td>\n",
              "      <td>-3.431406e-02</td>\n",
              "      <td>1.000000e+00</td>\n",
              "      <td>0.998157</td>\n",
              "      <td>-0.263542</td>\n",
              "      <td>-0.217801</td>\n",
              "      <td>...</td>\n",
              "      <td>5.372062e-02</td>\n",
              "      <td>-2.158505e-01</td>\n",
              "      <td>0.182764</td>\n",
              "      <td>0.277322</td>\n",
              "      <td>-0.179057</td>\n",
              "      <td>0.458404</td>\n",
              "      <td>8.164683e-01</td>\n",
              "      <td>-0.323297</td>\n",
              "      <td>0.647821</td>\n",
              "      <td>-0.131297</td>\n",
              "    </tr>\n",
              "    <tr>\n",
              "      <th>Monthly_Inhand_Salary</th>\n",
              "      <td>-0.029466</td>\n",
              "      <td>-3.525161e-02</td>\n",
              "      <td>-1.778674e-03</td>\n",
              "      <td>-1.611193e-02</td>\n",
              "      <td>0.003936</td>\n",
              "      <td>-3.406487e-02</td>\n",
              "      <td>9.981569e-01</td>\n",
              "      <td>1.000000</td>\n",
              "      <td>-0.264684</td>\n",
              "      <td>-0.221700</td>\n",
              "      <td>...</td>\n",
              "      <td>5.376391e-02</td>\n",
              "      <td>-2.210510e-01</td>\n",
              "      <td>0.182328</td>\n",
              "      <td>0.278384</td>\n",
              "      <td>-0.182084</td>\n",
              "      <td>0.441890</td>\n",
              "      <td>8.186332e-01</td>\n",
              "      <td>-0.324389</td>\n",
              "      <td>0.650205</td>\n",
              "      <td>-0.132084</td>\n",
              "    </tr>\n",
              "    <tr>\n",
              "      <th>Num_Bank_Accounts</th>\n",
              "      <td>-0.027597</td>\n",
              "      <td>1.220164e-02</td>\n",
              "      <td>7.112006e-04</td>\n",
              "      <td>4.246584e-02</td>\n",
              "      <td>-0.166051</td>\n",
              "      <td>-1.372611e-02</td>\n",
              "      <td>-2.635417e-01</td>\n",
              "      <td>-0.264684</td>\n",
              "      <td>1.000000</td>\n",
              "      <td>0.394324</td>\n",
              "      <td>...</td>\n",
              "      <td>-2.189922e-01</td>\n",
              "      <td>5.232181e-01</td>\n",
              "      <td>-0.063209</td>\n",
              "      <td>-0.467661</td>\n",
              "      <td>0.359767</td>\n",
              "      <td>0.120695</td>\n",
              "      <td>-2.073384e-01</td>\n",
              "      <td>0.078491</td>\n",
              "      <td>-0.306618</td>\n",
              "      <td>0.195651</td>\n",
              "    </tr>\n",
              "    <tr>\n",
              "      <th>Num_Credit_Card</th>\n",
              "      <td>0.039671</td>\n",
              "      <td>9.909603e-03</td>\n",
              "      <td>9.295525e-04</td>\n",
              "      <td>1.426410e-02</td>\n",
              "      <td>-0.091895</td>\n",
              "      <td>-2.877006e-03</td>\n",
              "      <td>-2.178013e-01</td>\n",
              "      <td>-0.221700</td>\n",
              "      <td>0.394324</td>\n",
              "      <td>1.000000</td>\n",
              "      <td>...</td>\n",
              "      <td>-3.214975e-01</td>\n",
              "      <td>4.853315e-01</td>\n",
              "      <td>-0.065103</td>\n",
              "      <td>-0.400863</td>\n",
              "      <td>0.248153</td>\n",
              "      <td>0.096324</td>\n",
              "      <td>-1.829931e-01</td>\n",
              "      <td>0.087833</td>\n",
              "      <td>-0.266478</td>\n",
              "      <td>0.101762</td>\n",
              "    </tr>\n",
              "    <tr>\n",
              "      <th>Interest_Rate</th>\n",
              "      <td>-0.010848</td>\n",
              "      <td>3.168336e-02</td>\n",
              "      <td>-7.687360e-17</td>\n",
              "      <td>7.428802e-02</td>\n",
              "      <td>-0.226336</td>\n",
              "      <td>4.370364e-02</td>\n",
              "      <td>-2.498021e-01</td>\n",
              "      <td>-0.254311</td>\n",
              "      <td>0.591997</td>\n",
              "      <td>0.440979</td>\n",
              "      <td>...</td>\n",
              "      <td>-3.236322e-01</td>\n",
              "      <td>6.349006e-01</td>\n",
              "      <td>-0.047734</td>\n",
              "      <td>-0.574571</td>\n",
              "      <td>0.421541</td>\n",
              "      <td>0.176976</td>\n",
              "      <td>-1.974552e-01</td>\n",
              "      <td>0.105250</td>\n",
              "      <td>-0.321119</td>\n",
              "      <td>0.144444</td>\n",
              "    </tr>\n",
              "    <tr>\n",
              "      <th>Num_of_Loan</th>\n",
              "      <td>-0.020547</td>\n",
              "      <td>4.923780e-02</td>\n",
              "      <td>-1.001260e-16</td>\n",
              "      <td>4.587586e-02</td>\n",
              "      <td>-0.207049</td>\n",
              "      <td>-2.079393e-02</td>\n",
              "      <td>-2.481765e-01</td>\n",
              "      <td>-0.250810</td>\n",
              "      <td>0.514965</td>\n",
              "      <td>0.430524</td>\n",
              "      <td>...</td>\n",
              "      <td>-4.564145e-01</td>\n",
              "      <td>6.489116e-01</td>\n",
              "      <td>-0.075435</td>\n",
              "      <td>-0.622485</td>\n",
              "      <td>0.319493</td>\n",
              "      <td>0.383503</td>\n",
              "      <td>-1.677246e-01</td>\n",
              "      <td>0.107236</td>\n",
              "      <td>-0.445374</td>\n",
              "      <td>0.125613</td>\n",
              "    </tr>\n",
              "    <tr>\n",
              "      <th>Delay_from_due_date</th>\n",
              "      <td>0.020769</td>\n",
              "      <td>6.044018e-02</td>\n",
              "      <td>-1.484690e-03</td>\n",
              "      <td>8.363329e-02</td>\n",
              "      <td>-0.210248</td>\n",
              "      <td>5.557034e-02</td>\n",
              "      <td>-2.265468e-01</td>\n",
              "      <td>-0.226742</td>\n",
              "      <td>0.507263</td>\n",
              "      <td>0.376495</td>\n",
              "      <td>...</td>\n",
              "      <td>-3.141367e-01</td>\n",
              "      <td>5.200649e-01</td>\n",
              "      <td>-0.041832</td>\n",
              "      <td>-0.458276</td>\n",
              "      <td>0.313643</td>\n",
              "      <td>0.140604</td>\n",
              "      <td>-1.696053e-01</td>\n",
              "      <td>0.072216</td>\n",
              "      <td>-0.273412</td>\n",
              "      <td>0.155115</td>\n",
              "    </tr>\n",
              "    <tr>\n",
              "      <th>Num_of_Delayed_Payment</th>\n",
              "      <td>0.024493</td>\n",
              "      <td>1.037188e-02</td>\n",
              "      <td>-1.007070e-03</td>\n",
              "      <td>1.585408e-02</td>\n",
              "      <td>-0.160704</td>\n",
              "      <td>6.320463e-02</td>\n",
              "      <td>-2.468916e-01</td>\n",
              "      <td>-0.248438</td>\n",
              "      <td>0.621556</td>\n",
              "      <td>0.387258</td>\n",
              "      <td>...</td>\n",
              "      <td>-2.249928e-01</td>\n",
              "      <td>4.893406e-01</td>\n",
              "      <td>-0.070771</td>\n",
              "      <td>-0.490298</td>\n",
              "      <td>0.405919</td>\n",
              "      <td>0.140019</td>\n",
              "      <td>-1.745333e-01</td>\n",
              "      <td>0.067878</td>\n",
              "      <td>-0.290155</td>\n",
              "      <td>0.243352</td>\n",
              "    </tr>\n",
              "    <tr>\n",
              "      <th>Changed_Credit_Limit</th>\n",
              "      <td>0.007636</td>\n",
              "      <td>-4.477962e-02</td>\n",
              "      <td>4.204081e-04</td>\n",
              "      <td>2.299252e-02</td>\n",
              "      <td>-0.153037</td>\n",
              "      <td>-1.694097e-02</td>\n",
              "      <td>-1.649106e-01</td>\n",
              "      <td>-0.170780</td>\n",
              "      <td>0.375298</td>\n",
              "      <td>0.275686</td>\n",
              "      <td>...</td>\n",
              "      <td>-9.005899e-02</td>\n",
              "      <td>5.075595e-01</td>\n",
              "      <td>-0.033058</td>\n",
              "      <td>-0.457624</td>\n",
              "      <td>0.352388</td>\n",
              "      <td>0.129247</td>\n",
              "      <td>-1.283698e-01</td>\n",
              "      <td>0.056416</td>\n",
              "      <td>-0.206424</td>\n",
              "      <td>0.228017</td>\n",
              "    </tr>\n",
              "    <tr>\n",
              "      <th>Num_Credit_Inquiries</th>\n",
              "      <td>0.045525</td>\n",
              "      <td>3.797653e-02</td>\n",
              "      <td>1.300680e-01</td>\n",
              "      <td>8.386710e-02</td>\n",
              "      <td>-0.179970</td>\n",
              "      <td>4.546101e-02</td>\n",
              "      <td>-2.880429e-01</td>\n",
              "      <td>-0.290511</td>\n",
              "      <td>0.533775</td>\n",
              "      <td>0.470811</td>\n",
              "      <td>...</td>\n",
              "      <td>-3.560415e-01</td>\n",
              "      <td>6.150850e-01</td>\n",
              "      <td>-0.064715</td>\n",
              "      <td>-0.589777</td>\n",
              "      <td>0.395267</td>\n",
              "      <td>0.119777</td>\n",
              "      <td>-2.227278e-01</td>\n",
              "      <td>0.102295</td>\n",
              "      <td>-0.329569</td>\n",
              "      <td>0.104777</td>\n",
              "    </tr>\n",
              "    <tr>\n",
              "      <th>Credit_Mix</th>\n",
              "      <td>-0.035526</td>\n",
              "      <td>-6.566079e-02</td>\n",
              "      <td>9.676471e-17</td>\n",
              "      <td>-7.661471e-02</td>\n",
              "      <td>0.106134</td>\n",
              "      <td>-3.258090e-03</td>\n",
              "      <td>5.372062e-02</td>\n",
              "      <td>0.053764</td>\n",
              "      <td>-0.218992</td>\n",
              "      <td>-0.321497</td>\n",
              "      <td>...</td>\n",
              "      <td>1.000000e+00</td>\n",
              "      <td>-6.054409e-01</td>\n",
              "      <td>0.030219</td>\n",
              "      <td>0.337224</td>\n",
              "      <td>-0.005665</td>\n",
              "      <td>-0.171112</td>\n",
              "      <td>3.704080e-02</td>\n",
              "      <td>-0.045751</td>\n",
              "      <td>0.166872</td>\n",
              "      <td>0.238125</td>\n",
              "    </tr>\n",
              "    <tr>\n",
              "      <th>Outstanding_Debt</th>\n",
              "      <td>-0.023955</td>\n",
              "      <td>5.642968e-02</td>\n",
              "      <td>-1.144124e-16</td>\n",
              "      <td>1.075779e-01</td>\n",
              "      <td>-0.176920</td>\n",
              "      <td>7.644114e-03</td>\n",
              "      <td>-2.158505e-01</td>\n",
              "      <td>-0.221051</td>\n",
              "      <td>0.523218</td>\n",
              "      <td>0.485331</td>\n",
              "      <td>...</td>\n",
              "      <td>-6.054409e-01</td>\n",
              "      <td>1.000000e+00</td>\n",
              "      <td>-0.047591</td>\n",
              "      <td>-0.613736</td>\n",
              "      <td>0.311142</td>\n",
              "      <td>0.216651</td>\n",
              "      <td>-1.677184e-01</td>\n",
              "      <td>0.088735</td>\n",
              "      <td>-0.320232</td>\n",
              "      <td>0.069990</td>\n",
              "    </tr>\n",
              "    <tr>\n",
              "      <th>Credit_Utilization_Ratio</th>\n",
              "      <td>0.006565</td>\n",
              "      <td>1.779897e-03</td>\n",
              "      <td>5.067020e-03</td>\n",
              "      <td>2.105818e-02</td>\n",
              "      <td>0.001086</td>\n",
              "      <td>-4.866487e-03</td>\n",
              "      <td>1.827644e-01</td>\n",
              "      <td>0.182328</td>\n",
              "      <td>-0.063209</td>\n",
              "      <td>-0.065103</td>\n",
              "      <td>...</td>\n",
              "      <td>3.021885e-02</td>\n",
              "      <td>-4.759149e-02</td>\n",
              "      <td>1.000000</td>\n",
              "      <td>0.072829</td>\n",
              "      <td>-0.062961</td>\n",
              "      <td>0.030222</td>\n",
              "      <td>1.306401e-01</td>\n",
              "      <td>-0.109595</td>\n",
              "      <td>0.227217</td>\n",
              "      <td>-0.018721</td>\n",
              "    </tr>\n",
              "    <tr>\n",
              "      <th>Credit_History_Age</th>\n",
              "      <td>-0.066435</td>\n",
              "      <td>-3.650676e-02</td>\n",
              "      <td>2.314551e-02</td>\n",
              "      <td>-4.886889e-02</td>\n",
              "      <td>0.211158</td>\n",
              "      <td>-4.401243e-02</td>\n",
              "      <td>2.773219e-01</td>\n",
              "      <td>0.278384</td>\n",
              "      <td>-0.467661</td>\n",
              "      <td>-0.400863</td>\n",
              "      <td>...</td>\n",
              "      <td>3.372241e-01</td>\n",
              "      <td>-6.137359e-01</td>\n",
              "      <td>0.072829</td>\n",
              "      <td>1.000000</td>\n",
              "      <td>-0.358471</td>\n",
              "      <td>-0.146488</td>\n",
              "      <td>2.033391e-01</td>\n",
              "      <td>-0.102846</td>\n",
              "      <td>0.341085</td>\n",
              "      <td>-0.146139</td>\n",
              "    </tr>\n",
              "    <tr>\n",
              "      <th>Payment_of_Min_Amount</th>\n",
              "      <td>0.000238</td>\n",
              "      <td>2.499045e-03</td>\n",
              "      <td>-1.262762e-03</td>\n",
              "      <td>5.937154e-02</td>\n",
              "      <td>-0.127967</td>\n",
              "      <td>2.287200e-02</td>\n",
              "      <td>-1.790568e-01</td>\n",
              "      <td>-0.182084</td>\n",
              "      <td>0.359767</td>\n",
              "      <td>0.248153</td>\n",
              "      <td>...</td>\n",
              "      <td>-5.664530e-03</td>\n",
              "      <td>3.111425e-01</td>\n",
              "      <td>-0.062961</td>\n",
              "      <td>-0.358471</td>\n",
              "      <td>1.000000</td>\n",
              "      <td>0.073561</td>\n",
              "      <td>-1.495101e-01</td>\n",
              "      <td>0.072928</td>\n",
              "      <td>-0.201731</td>\n",
              "      <td>0.214145</td>\n",
              "    </tr>\n",
              "    <tr>\n",
              "      <th>Total_EMI_per_month</th>\n",
              "      <td>-0.076320</td>\n",
              "      <td>-3.726696e-02</td>\n",
              "      <td>4.660093e-02</td>\n",
              "      <td>5.635607e-03</td>\n",
              "      <td>-0.150443</td>\n",
              "      <td>-6.175285e-02</td>\n",
              "      <td>4.584039e-01</td>\n",
              "      <td>0.441890</td>\n",
              "      <td>0.120695</td>\n",
              "      <td>0.096324</td>\n",
              "      <td>...</td>\n",
              "      <td>-1.711120e-01</td>\n",
              "      <td>2.166515e-01</td>\n",
              "      <td>0.030222</td>\n",
              "      <td>-0.146488</td>\n",
              "      <td>0.073561</td>\n",
              "      <td>1.000000</td>\n",
              "      <td>4.094078e-01</td>\n",
              "      <td>-0.162612</td>\n",
              "      <td>0.066338</td>\n",
              "      <td>-0.018127</td>\n",
              "    </tr>\n",
              "    <tr>\n",
              "      <th>Amount_invested_monthly</th>\n",
              "      <td>-0.034263</td>\n",
              "      <td>-4.334585e-02</td>\n",
              "      <td>9.993111e-17</td>\n",
              "      <td>-3.196744e-02</td>\n",
              "      <td>-0.002476</td>\n",
              "      <td>-8.528448e-03</td>\n",
              "      <td>8.164683e-01</td>\n",
              "      <td>0.818633</td>\n",
              "      <td>-0.207338</td>\n",
              "      <td>-0.182993</td>\n",
              "      <td>...</td>\n",
              "      <td>3.704080e-02</td>\n",
              "      <td>-1.677184e-01</td>\n",
              "      <td>0.130640</td>\n",
              "      <td>0.203339</td>\n",
              "      <td>-0.149510</td>\n",
              "      <td>0.409408</td>\n",
              "      <td>1.000000e+00</td>\n",
              "      <td>-0.220837</td>\n",
              "      <td>0.507394</td>\n",
              "      <td>-0.109998</td>\n",
              "    </tr>\n",
              "    <tr>\n",
              "      <th>Payment_Behaviour</th>\n",
              "      <td>0.022559</td>\n",
              "      <td>2.055488e-02</td>\n",
              "      <td>2.473256e-03</td>\n",
              "      <td>3.132824e-02</td>\n",
              "      <td>0.010127</td>\n",
              "      <td>5.130087e-02</td>\n",
              "      <td>-3.232967e-01</td>\n",
              "      <td>-0.324389</td>\n",
              "      <td>0.078491</td>\n",
              "      <td>0.087833</td>\n",
              "      <td>...</td>\n",
              "      <td>-4.575073e-02</td>\n",
              "      <td>8.873537e-02</td>\n",
              "      <td>-0.109595</td>\n",
              "      <td>-0.102846</td>\n",
              "      <td>0.072928</td>\n",
              "      <td>-0.162612</td>\n",
              "      <td>-2.208375e-01</td>\n",
              "      <td>1.000000</td>\n",
              "      <td>-0.513834</td>\n",
              "      <td>0.039874</td>\n",
              "    </tr>\n",
              "    <tr>\n",
              "      <th>Monthly_Balance</th>\n",
              "      <td>-0.013366</td>\n",
              "      <td>-2.695743e-03</td>\n",
              "      <td>-4.126756e-03</td>\n",
              "      <td>-8.154812e-03</td>\n",
              "      <td>0.072348</td>\n",
              "      <td>-3.946707e-02</td>\n",
              "      <td>6.478215e-01</td>\n",
              "      <td>0.650205</td>\n",
              "      <td>-0.306618</td>\n",
              "      <td>-0.266478</td>\n",
              "      <td>...</td>\n",
              "      <td>1.668723e-01</td>\n",
              "      <td>-3.202324e-01</td>\n",
              "      <td>0.227217</td>\n",
              "      <td>0.341085</td>\n",
              "      <td>-0.201731</td>\n",
              "      <td>0.066338</td>\n",
              "      <td>5.073939e-01</td>\n",
              "      <td>-0.513834</td>\n",
              "      <td>1.000000</td>\n",
              "      <td>-0.117301</td>\n",
              "    </tr>\n",
              "    <tr>\n",
              "      <th>Credit_Score</th>\n",
              "      <td>0.000804</td>\n",
              "      <td>1.233021e-02</td>\n",
              "      <td>-2.169274e-02</td>\n",
              "      <td>1.558920e-02</td>\n",
              "      <td>-0.074146</td>\n",
              "      <td>-1.615119e-02</td>\n",
              "      <td>-1.312975e-01</td>\n",
              "      <td>-0.132084</td>\n",
              "      <td>0.195651</td>\n",
              "      <td>0.101762</td>\n",
              "      <td>...</td>\n",
              "      <td>2.381251e-01</td>\n",
              "      <td>6.999007e-02</td>\n",
              "      <td>-0.018721</td>\n",
              "      <td>-0.146139</td>\n",
              "      <td>0.214145</td>\n",
              "      <td>-0.018127</td>\n",
              "      <td>-1.099980e-01</td>\n",
              "      <td>0.039874</td>\n",
              "      <td>-0.117301</td>\n",
              "      <td>1.000000</td>\n",
              "    </tr>\n",
              "  </tbody>\n",
              "</table>\n",
              "<p>26 rows × 26 columns</p>\n",
              "</div>\n",
              "    <div class=\"colab-df-buttons\">\n",
              "\n",
              "  <div class=\"colab-df-container\">\n",
              "    <button class=\"colab-df-convert\" onclick=\"convertToInteractive('df-95e95f47-be0e-4e66-a07e-d841503e5bf5')\"\n",
              "            title=\"Convert this dataframe to an interactive table.\"\n",
              "            style=\"display:none;\">\n",
              "\n",
              "  <svg xmlns=\"http://www.w3.org/2000/svg\" height=\"24px\" viewBox=\"0 -960 960 960\">\n",
              "    <path d=\"M120-120v-720h720v720H120Zm60-500h600v-160H180v160Zm220 220h160v-160H400v160Zm0 220h160v-160H400v160ZM180-400h160v-160H180v160Zm440 0h160v-160H620v160ZM180-180h160v-160H180v160Zm440 0h160v-160H620v160Z\"/>\n",
              "  </svg>\n",
              "    </button>\n",
              "\n",
              "  <style>\n",
              "    .colab-df-container {\n",
              "      display:flex;\n",
              "      gap: 12px;\n",
              "    }\n",
              "\n",
              "    .colab-df-convert {\n",
              "      background-color: #E8F0FE;\n",
              "      border: none;\n",
              "      border-radius: 50%;\n",
              "      cursor: pointer;\n",
              "      display: none;\n",
              "      fill: #1967D2;\n",
              "      height: 32px;\n",
              "      padding: 0 0 0 0;\n",
              "      width: 32px;\n",
              "    }\n",
              "\n",
              "    .colab-df-convert:hover {\n",
              "      background-color: #E2EBFA;\n",
              "      box-shadow: 0px 1px 2px rgba(60, 64, 67, 0.3), 0px 1px 3px 1px rgba(60, 64, 67, 0.15);\n",
              "      fill: #174EA6;\n",
              "    }\n",
              "\n",
              "    .colab-df-buttons div {\n",
              "      margin-bottom: 4px;\n",
              "    }\n",
              "\n",
              "    [theme=dark] .colab-df-convert {\n",
              "      background-color: #3B4455;\n",
              "      fill: #D2E3FC;\n",
              "    }\n",
              "\n",
              "    [theme=dark] .colab-df-convert:hover {\n",
              "      background-color: #434B5C;\n",
              "      box-shadow: 0px 1px 3px 1px rgba(0, 0, 0, 0.15);\n",
              "      filter: drop-shadow(0px 1px 2px rgba(0, 0, 0, 0.3));\n",
              "      fill: #FFFFFF;\n",
              "    }\n",
              "  </style>\n",
              "\n",
              "    <script>\n",
              "      const buttonEl =\n",
              "        document.querySelector('#df-95e95f47-be0e-4e66-a07e-d841503e5bf5 button.colab-df-convert');\n",
              "      buttonEl.style.display =\n",
              "        google.colab.kernel.accessAllowed ? 'block' : 'none';\n",
              "\n",
              "      async function convertToInteractive(key) {\n",
              "        const element = document.querySelector('#df-95e95f47-be0e-4e66-a07e-d841503e5bf5');\n",
              "        const dataTable =\n",
              "          await google.colab.kernel.invokeFunction('convertToInteractive',\n",
              "                                                    [key], {});\n",
              "        if (!dataTable) return;\n",
              "\n",
              "        const docLinkHtml = 'Like what you see? Visit the ' +\n",
              "          '<a target=\"_blank\" href=https://colab.research.google.com/notebooks/data_table.ipynb>data table notebook</a>'\n",
              "          + ' to learn more about interactive tables.';\n",
              "        element.innerHTML = '';\n",
              "        dataTable['output_type'] = 'display_data';\n",
              "        await google.colab.output.renderOutput(dataTable, element);\n",
              "        const docLink = document.createElement('div');\n",
              "        docLink.innerHTML = docLinkHtml;\n",
              "        element.appendChild(docLink);\n",
              "      }\n",
              "    </script>\n",
              "  </div>\n",
              "\n",
              "\n",
              "<div id=\"df-12d50fc4-3e9b-48fe-887d-d58a0df9c572\">\n",
              "  <button class=\"colab-df-quickchart\" onclick=\"quickchart('df-12d50fc4-3e9b-48fe-887d-d58a0df9c572')\"\n",
              "            title=\"Suggest charts\"\n",
              "            style=\"display:none;\">\n",
              "\n",
              "<svg xmlns=\"http://www.w3.org/2000/svg\" height=\"24px\"viewBox=\"0 0 24 24\"\n",
              "     width=\"24px\">\n",
              "    <g>\n",
              "        <path d=\"M19 3H5c-1.1 0-2 .9-2 2v14c0 1.1.9 2 2 2h14c1.1 0 2-.9 2-2V5c0-1.1-.9-2-2-2zM9 17H7v-7h2v7zm4 0h-2V7h2v10zm4 0h-2v-4h2v4z\"/>\n",
              "    </g>\n",
              "</svg>\n",
              "  </button>\n",
              "\n",
              "<style>\n",
              "  .colab-df-quickchart {\n",
              "      --bg-color: #E8F0FE;\n",
              "      --fill-color: #1967D2;\n",
              "      --hover-bg-color: #E2EBFA;\n",
              "      --hover-fill-color: #174EA6;\n",
              "      --disabled-fill-color: #AAA;\n",
              "      --disabled-bg-color: #DDD;\n",
              "  }\n",
              "\n",
              "  [theme=dark] .colab-df-quickchart {\n",
              "      --bg-color: #3B4455;\n",
              "      --fill-color: #D2E3FC;\n",
              "      --hover-bg-color: #434B5C;\n",
              "      --hover-fill-color: #FFFFFF;\n",
              "      --disabled-bg-color: #3B4455;\n",
              "      --disabled-fill-color: #666;\n",
              "  }\n",
              "\n",
              "  .colab-df-quickchart {\n",
              "    background-color: var(--bg-color);\n",
              "    border: none;\n",
              "    border-radius: 50%;\n",
              "    cursor: pointer;\n",
              "    display: none;\n",
              "    fill: var(--fill-color);\n",
              "    height: 32px;\n",
              "    padding: 0;\n",
              "    width: 32px;\n",
              "  }\n",
              "\n",
              "  .colab-df-quickchart:hover {\n",
              "    background-color: var(--hover-bg-color);\n",
              "    box-shadow: 0 1px 2px rgba(60, 64, 67, 0.3), 0 1px 3px 1px rgba(60, 64, 67, 0.15);\n",
              "    fill: var(--button-hover-fill-color);\n",
              "  }\n",
              "\n",
              "  .colab-df-quickchart-complete:disabled,\n",
              "  .colab-df-quickchart-complete:disabled:hover {\n",
              "    background-color: var(--disabled-bg-color);\n",
              "    fill: var(--disabled-fill-color);\n",
              "    box-shadow: none;\n",
              "  }\n",
              "\n",
              "  .colab-df-spinner {\n",
              "    border: 2px solid var(--fill-color);\n",
              "    border-color: transparent;\n",
              "    border-bottom-color: var(--fill-color);\n",
              "    animation:\n",
              "      spin 1s steps(1) infinite;\n",
              "  }\n",
              "\n",
              "  @keyframes spin {\n",
              "    0% {\n",
              "      border-color: transparent;\n",
              "      border-bottom-color: var(--fill-color);\n",
              "      border-left-color: var(--fill-color);\n",
              "    }\n",
              "    20% {\n",
              "      border-color: transparent;\n",
              "      border-left-color: var(--fill-color);\n",
              "      border-top-color: var(--fill-color);\n",
              "    }\n",
              "    30% {\n",
              "      border-color: transparent;\n",
              "      border-left-color: var(--fill-color);\n",
              "      border-top-color: var(--fill-color);\n",
              "      border-right-color: var(--fill-color);\n",
              "    }\n",
              "    40% {\n",
              "      border-color: transparent;\n",
              "      border-right-color: var(--fill-color);\n",
              "      border-top-color: var(--fill-color);\n",
              "    }\n",
              "    60% {\n",
              "      border-color: transparent;\n",
              "      border-right-color: var(--fill-color);\n",
              "    }\n",
              "    80% {\n",
              "      border-color: transparent;\n",
              "      border-right-color: var(--fill-color);\n",
              "      border-bottom-color: var(--fill-color);\n",
              "    }\n",
              "    90% {\n",
              "      border-color: transparent;\n",
              "      border-bottom-color: var(--fill-color);\n",
              "    }\n",
              "  }\n",
              "</style>\n",
              "\n",
              "  <script>\n",
              "    async function quickchart(key) {\n",
              "      const quickchartButtonEl =\n",
              "        document.querySelector('#' + key + ' button');\n",
              "      quickchartButtonEl.disabled = true;  // To prevent multiple clicks.\n",
              "      quickchartButtonEl.classList.add('colab-df-spinner');\n",
              "      try {\n",
              "        const charts = await google.colab.kernel.invokeFunction(\n",
              "            'suggestCharts', [key], {});\n",
              "      } catch (error) {\n",
              "        console.error('Error during call to suggestCharts:', error);\n",
              "      }\n",
              "      quickchartButtonEl.classList.remove('colab-df-spinner');\n",
              "      quickchartButtonEl.classList.add('colab-df-quickchart-complete');\n",
              "    }\n",
              "    (() => {\n",
              "      let quickchartButtonEl =\n",
              "        document.querySelector('#df-12d50fc4-3e9b-48fe-887d-d58a0df9c572 button');\n",
              "      quickchartButtonEl.style.display =\n",
              "        google.colab.kernel.accessAllowed ? 'block' : 'none';\n",
              "    })();\n",
              "  </script>\n",
              "</div>\n",
              "    </div>\n",
              "  </div>\n"
            ]
          },
          "metadata": {},
          "execution_count": 44
        }
      ]
    },
    {
      "cell_type": "code",
      "source": [
        "cor = df.corr()\n",
        "cor_target = abs(cor[\"Credit_Score\"])"
      ],
      "metadata": {
        "id": "7GNatn1dKlmO"
      },
      "execution_count": 45,
      "outputs": []
    },
    {
      "cell_type": "code",
      "source": [
        "# select the features based on the correlation matrix value\n",
        "chosen_features = cor_target[cor_target>0.1]"
      ],
      "metadata": {
        "id": "aRLCfG-iK_vz"
      },
      "execution_count": 46,
      "outputs": []
    },
    {
      "cell_type": "code",
      "source": [
        "chosen_features"
      ],
      "metadata": {
        "colab": {
          "base_uri": "https://localhost:8080/"
        },
        "id": "GU9z1uF_LR0K",
        "outputId": "6b928b83-f8db-4fc8-8aa6-48df2c7b26ce"
      },
      "execution_count": 47,
      "outputs": [
        {
          "output_type": "execute_result",
          "data": {
            "text/plain": [
              "Annual_Income              0.131297\n",
              "Monthly_Inhand_Salary      0.132084\n",
              "Num_Bank_Accounts          0.195651\n",
              "Num_Credit_Card            0.101762\n",
              "Interest_Rate              0.144444\n",
              "Num_of_Loan                0.125613\n",
              "Delay_from_due_date        0.155115\n",
              "Num_of_Delayed_Payment     0.243352\n",
              "Changed_Credit_Limit       0.228017\n",
              "Num_Credit_Inquiries       0.104777\n",
              "Credit_Mix                 0.238125\n",
              "Credit_History_Age         0.146139\n",
              "Payment_of_Min_Amount      0.214145\n",
              "Amount_invested_monthly    0.109998\n",
              "Monthly_Balance            0.117301\n",
              "Credit_Score               1.000000\n",
              "Name: Credit_Score, dtype: float64"
            ]
          },
          "metadata": {},
          "execution_count": 47
        }
      ]
    },
    {
      "cell_type": "code",
      "source": [
        "# Convert the selected features into list\n",
        "ls1 = list(chosen_features.index.values)"
      ],
      "metadata": {
        "id": "M4KgQCh5Lkym"
      },
      "execution_count": 48,
      "outputs": []
    },
    {
      "cell_type": "code",
      "source": [
        "ls1"
      ],
      "metadata": {
        "colab": {
          "base_uri": "https://localhost:8080/"
        },
        "id": "99Zz4OpKLmKd",
        "outputId": "e4c2e494-66fe-4a25-a6cd-a50e86d9ad0f"
      },
      "execution_count": 49,
      "outputs": [
        {
          "output_type": "execute_result",
          "data": {
            "text/plain": [
              "['Annual_Income',\n",
              " 'Monthly_Inhand_Salary',\n",
              " 'Num_Bank_Accounts',\n",
              " 'Num_Credit_Card',\n",
              " 'Interest_Rate',\n",
              " 'Num_of_Loan',\n",
              " 'Delay_from_due_date',\n",
              " 'Num_of_Delayed_Payment',\n",
              " 'Changed_Credit_Limit',\n",
              " 'Num_Credit_Inquiries',\n",
              " 'Credit_Mix',\n",
              " 'Credit_History_Age',\n",
              " 'Payment_of_Min_Amount',\n",
              " 'Amount_invested_monthly',\n",
              " 'Monthly_Balance',\n",
              " 'Credit_Score']"
            ]
          },
          "metadata": {},
          "execution_count": 49
        }
      ]
    },
    {
      "cell_type": "markdown",
      "source": [
        "**Create the New DataFrame with Selected Features**"
      ],
      "metadata": {
        "id": "tw7cNo44JUQ4"
      }
    },
    {
      "cell_type": "code",
      "source": [
        "df_new = df[ls1]"
      ],
      "metadata": {
        "id": "59DOSDmBLr0n"
      },
      "execution_count": 50,
      "outputs": []
    },
    {
      "cell_type": "code",
      "source": [
        "df_new.head()"
      ],
      "metadata": {
        "colab": {
          "base_uri": "https://localhost:8080/",
          "height": 226
        },
        "id": "lPBOCLb8LuF2",
        "outputId": "296bb4aa-91da-48ed-96d1-d2a64ec67644"
      },
      "execution_count": 51,
      "outputs": [
        {
          "output_type": "execute_result",
          "data": {
            "text/plain": [
              "   Annual_Income  Monthly_Inhand_Salary  Num_Bank_Accounts  Num_Credit_Card  \\\n",
              "0       19114.12            1824.843333                  3                4   \n",
              "1       19114.12            1824.843333                  3                4   \n",
              "2       19114.12            1824.843333                  3                4   \n",
              "3       19114.12            1824.843333                  3                4   \n",
              "4       19114.12            1824.843333                  3                4   \n",
              "\n",
              "   Interest_Rate  Num_of_Loan  Delay_from_due_date  Num_of_Delayed_Payment  \\\n",
              "0              3            4                  3.0                       7   \n",
              "1              3            4                  3.0                       4   \n",
              "2              3            4                  3.0                       7   \n",
              "3              3            4                  5.0                       4   \n",
              "4              3            4                  6.0                       4   \n",
              "\n",
              "   Changed_Credit_Limit  Num_Credit_Inquiries  Credit_Mix  Credit_History_Age  \\\n",
              "0                 11.27                     4           1                 265   \n",
              "1                 11.27                     4           1                 266   \n",
              "2                 11.27                     4           1                 267   \n",
              "3                  6.27                     4           1                 268   \n",
              "4                 11.27                     4           1                 269   \n",
              "\n",
              "   Payment_of_Min_Amount  Amount_invested_monthly  Monthly_Balance  \\\n",
              "0                      1                 21.46538       312.494089   \n",
              "1                      1                 21.46538       284.629163   \n",
              "2                      1                 21.46538       331.209863   \n",
              "3                      1                 21.46538       223.451310   \n",
              "4                      1                 21.46538       341.489231   \n",
              "\n",
              "   Credit_Score  \n",
              "0             0  \n",
              "1             0  \n",
              "2             0  \n",
              "3             0  \n",
              "4             0  "
            ],
            "text/html": [
              "\n",
              "  <div id=\"df-9f3b88c3-00a1-4d39-897d-c7c18c97c202\" class=\"colab-df-container\">\n",
              "    <div>\n",
              "<style scoped>\n",
              "    .dataframe tbody tr th:only-of-type {\n",
              "        vertical-align: middle;\n",
              "    }\n",
              "\n",
              "    .dataframe tbody tr th {\n",
              "        vertical-align: top;\n",
              "    }\n",
              "\n",
              "    .dataframe thead th {\n",
              "        text-align: right;\n",
              "    }\n",
              "</style>\n",
              "<table border=\"1\" class=\"dataframe\">\n",
              "  <thead>\n",
              "    <tr style=\"text-align: right;\">\n",
              "      <th></th>\n",
              "      <th>Annual_Income</th>\n",
              "      <th>Monthly_Inhand_Salary</th>\n",
              "      <th>Num_Bank_Accounts</th>\n",
              "      <th>Num_Credit_Card</th>\n",
              "      <th>Interest_Rate</th>\n",
              "      <th>Num_of_Loan</th>\n",
              "      <th>Delay_from_due_date</th>\n",
              "      <th>Num_of_Delayed_Payment</th>\n",
              "      <th>Changed_Credit_Limit</th>\n",
              "      <th>Num_Credit_Inquiries</th>\n",
              "      <th>Credit_Mix</th>\n",
              "      <th>Credit_History_Age</th>\n",
              "      <th>Payment_of_Min_Amount</th>\n",
              "      <th>Amount_invested_monthly</th>\n",
              "      <th>Monthly_Balance</th>\n",
              "      <th>Credit_Score</th>\n",
              "    </tr>\n",
              "  </thead>\n",
              "  <tbody>\n",
              "    <tr>\n",
              "      <th>0</th>\n",
              "      <td>19114.12</td>\n",
              "      <td>1824.843333</td>\n",
              "      <td>3</td>\n",
              "      <td>4</td>\n",
              "      <td>3</td>\n",
              "      <td>4</td>\n",
              "      <td>3.0</td>\n",
              "      <td>7</td>\n",
              "      <td>11.27</td>\n",
              "      <td>4</td>\n",
              "      <td>1</td>\n",
              "      <td>265</td>\n",
              "      <td>1</td>\n",
              "      <td>21.46538</td>\n",
              "      <td>312.494089</td>\n",
              "      <td>0</td>\n",
              "    </tr>\n",
              "    <tr>\n",
              "      <th>1</th>\n",
              "      <td>19114.12</td>\n",
              "      <td>1824.843333</td>\n",
              "      <td>3</td>\n",
              "      <td>4</td>\n",
              "      <td>3</td>\n",
              "      <td>4</td>\n",
              "      <td>3.0</td>\n",
              "      <td>4</td>\n",
              "      <td>11.27</td>\n",
              "      <td>4</td>\n",
              "      <td>1</td>\n",
              "      <td>266</td>\n",
              "      <td>1</td>\n",
              "      <td>21.46538</td>\n",
              "      <td>284.629163</td>\n",
              "      <td>0</td>\n",
              "    </tr>\n",
              "    <tr>\n",
              "      <th>2</th>\n",
              "      <td>19114.12</td>\n",
              "      <td>1824.843333</td>\n",
              "      <td>3</td>\n",
              "      <td>4</td>\n",
              "      <td>3</td>\n",
              "      <td>4</td>\n",
              "      <td>3.0</td>\n",
              "      <td>7</td>\n",
              "      <td>11.27</td>\n",
              "      <td>4</td>\n",
              "      <td>1</td>\n",
              "      <td>267</td>\n",
              "      <td>1</td>\n",
              "      <td>21.46538</td>\n",
              "      <td>331.209863</td>\n",
              "      <td>0</td>\n",
              "    </tr>\n",
              "    <tr>\n",
              "      <th>3</th>\n",
              "      <td>19114.12</td>\n",
              "      <td>1824.843333</td>\n",
              "      <td>3</td>\n",
              "      <td>4</td>\n",
              "      <td>3</td>\n",
              "      <td>4</td>\n",
              "      <td>5.0</td>\n",
              "      <td>4</td>\n",
              "      <td>6.27</td>\n",
              "      <td>4</td>\n",
              "      <td>1</td>\n",
              "      <td>268</td>\n",
              "      <td>1</td>\n",
              "      <td>21.46538</td>\n",
              "      <td>223.451310</td>\n",
              "      <td>0</td>\n",
              "    </tr>\n",
              "    <tr>\n",
              "      <th>4</th>\n",
              "      <td>19114.12</td>\n",
              "      <td>1824.843333</td>\n",
              "      <td>3</td>\n",
              "      <td>4</td>\n",
              "      <td>3</td>\n",
              "      <td>4</td>\n",
              "      <td>6.0</td>\n",
              "      <td>4</td>\n",
              "      <td>11.27</td>\n",
              "      <td>4</td>\n",
              "      <td>1</td>\n",
              "      <td>269</td>\n",
              "      <td>1</td>\n",
              "      <td>21.46538</td>\n",
              "      <td>341.489231</td>\n",
              "      <td>0</td>\n",
              "    </tr>\n",
              "  </tbody>\n",
              "</table>\n",
              "</div>\n",
              "    <div class=\"colab-df-buttons\">\n",
              "\n",
              "  <div class=\"colab-df-container\">\n",
              "    <button class=\"colab-df-convert\" onclick=\"convertToInteractive('df-9f3b88c3-00a1-4d39-897d-c7c18c97c202')\"\n",
              "            title=\"Convert this dataframe to an interactive table.\"\n",
              "            style=\"display:none;\">\n",
              "\n",
              "  <svg xmlns=\"http://www.w3.org/2000/svg\" height=\"24px\" viewBox=\"0 -960 960 960\">\n",
              "    <path d=\"M120-120v-720h720v720H120Zm60-500h600v-160H180v160Zm220 220h160v-160H400v160Zm0 220h160v-160H400v160ZM180-400h160v-160H180v160Zm440 0h160v-160H620v160ZM180-180h160v-160H180v160Zm440 0h160v-160H620v160Z\"/>\n",
              "  </svg>\n",
              "    </button>\n",
              "\n",
              "  <style>\n",
              "    .colab-df-container {\n",
              "      display:flex;\n",
              "      gap: 12px;\n",
              "    }\n",
              "\n",
              "    .colab-df-convert {\n",
              "      background-color: #E8F0FE;\n",
              "      border: none;\n",
              "      border-radius: 50%;\n",
              "      cursor: pointer;\n",
              "      display: none;\n",
              "      fill: #1967D2;\n",
              "      height: 32px;\n",
              "      padding: 0 0 0 0;\n",
              "      width: 32px;\n",
              "    }\n",
              "\n",
              "    .colab-df-convert:hover {\n",
              "      background-color: #E2EBFA;\n",
              "      box-shadow: 0px 1px 2px rgba(60, 64, 67, 0.3), 0px 1px 3px 1px rgba(60, 64, 67, 0.15);\n",
              "      fill: #174EA6;\n",
              "    }\n",
              "\n",
              "    .colab-df-buttons div {\n",
              "      margin-bottom: 4px;\n",
              "    }\n",
              "\n",
              "    [theme=dark] .colab-df-convert {\n",
              "      background-color: #3B4455;\n",
              "      fill: #D2E3FC;\n",
              "    }\n",
              "\n",
              "    [theme=dark] .colab-df-convert:hover {\n",
              "      background-color: #434B5C;\n",
              "      box-shadow: 0px 1px 3px 1px rgba(0, 0, 0, 0.15);\n",
              "      filter: drop-shadow(0px 1px 2px rgba(0, 0, 0, 0.3));\n",
              "      fill: #FFFFFF;\n",
              "    }\n",
              "  </style>\n",
              "\n",
              "    <script>\n",
              "      const buttonEl =\n",
              "        document.querySelector('#df-9f3b88c3-00a1-4d39-897d-c7c18c97c202 button.colab-df-convert');\n",
              "      buttonEl.style.display =\n",
              "        google.colab.kernel.accessAllowed ? 'block' : 'none';\n",
              "\n",
              "      async function convertToInteractive(key) {\n",
              "        const element = document.querySelector('#df-9f3b88c3-00a1-4d39-897d-c7c18c97c202');\n",
              "        const dataTable =\n",
              "          await google.colab.kernel.invokeFunction('convertToInteractive',\n",
              "                                                    [key], {});\n",
              "        if (!dataTable) return;\n",
              "\n",
              "        const docLinkHtml = 'Like what you see? Visit the ' +\n",
              "          '<a target=\"_blank\" href=https://colab.research.google.com/notebooks/data_table.ipynb>data table notebook</a>'\n",
              "          + ' to learn more about interactive tables.';\n",
              "        element.innerHTML = '';\n",
              "        dataTable['output_type'] = 'display_data';\n",
              "        await google.colab.output.renderOutput(dataTable, element);\n",
              "        const docLink = document.createElement('div');\n",
              "        docLink.innerHTML = docLinkHtml;\n",
              "        element.appendChild(docLink);\n",
              "      }\n",
              "    </script>\n",
              "  </div>\n",
              "\n",
              "\n",
              "<div id=\"df-ea9e6dbd-7540-4591-bfe0-c6ac257ddc70\">\n",
              "  <button class=\"colab-df-quickchart\" onclick=\"quickchart('df-ea9e6dbd-7540-4591-bfe0-c6ac257ddc70')\"\n",
              "            title=\"Suggest charts\"\n",
              "            style=\"display:none;\">\n",
              "\n",
              "<svg xmlns=\"http://www.w3.org/2000/svg\" height=\"24px\"viewBox=\"0 0 24 24\"\n",
              "     width=\"24px\">\n",
              "    <g>\n",
              "        <path d=\"M19 3H5c-1.1 0-2 .9-2 2v14c0 1.1.9 2 2 2h14c1.1 0 2-.9 2-2V5c0-1.1-.9-2-2-2zM9 17H7v-7h2v7zm4 0h-2V7h2v10zm4 0h-2v-4h2v4z\"/>\n",
              "    </g>\n",
              "</svg>\n",
              "  </button>\n",
              "\n",
              "<style>\n",
              "  .colab-df-quickchart {\n",
              "      --bg-color: #E8F0FE;\n",
              "      --fill-color: #1967D2;\n",
              "      --hover-bg-color: #E2EBFA;\n",
              "      --hover-fill-color: #174EA6;\n",
              "      --disabled-fill-color: #AAA;\n",
              "      --disabled-bg-color: #DDD;\n",
              "  }\n",
              "\n",
              "  [theme=dark] .colab-df-quickchart {\n",
              "      --bg-color: #3B4455;\n",
              "      --fill-color: #D2E3FC;\n",
              "      --hover-bg-color: #434B5C;\n",
              "      --hover-fill-color: #FFFFFF;\n",
              "      --disabled-bg-color: #3B4455;\n",
              "      --disabled-fill-color: #666;\n",
              "  }\n",
              "\n",
              "  .colab-df-quickchart {\n",
              "    background-color: var(--bg-color);\n",
              "    border: none;\n",
              "    border-radius: 50%;\n",
              "    cursor: pointer;\n",
              "    display: none;\n",
              "    fill: var(--fill-color);\n",
              "    height: 32px;\n",
              "    padding: 0;\n",
              "    width: 32px;\n",
              "  }\n",
              "\n",
              "  .colab-df-quickchart:hover {\n",
              "    background-color: var(--hover-bg-color);\n",
              "    box-shadow: 0 1px 2px rgba(60, 64, 67, 0.3), 0 1px 3px 1px rgba(60, 64, 67, 0.15);\n",
              "    fill: var(--button-hover-fill-color);\n",
              "  }\n",
              "\n",
              "  .colab-df-quickchart-complete:disabled,\n",
              "  .colab-df-quickchart-complete:disabled:hover {\n",
              "    background-color: var(--disabled-bg-color);\n",
              "    fill: var(--disabled-fill-color);\n",
              "    box-shadow: none;\n",
              "  }\n",
              "\n",
              "  .colab-df-spinner {\n",
              "    border: 2px solid var(--fill-color);\n",
              "    border-color: transparent;\n",
              "    border-bottom-color: var(--fill-color);\n",
              "    animation:\n",
              "      spin 1s steps(1) infinite;\n",
              "  }\n",
              "\n",
              "  @keyframes spin {\n",
              "    0% {\n",
              "      border-color: transparent;\n",
              "      border-bottom-color: var(--fill-color);\n",
              "      border-left-color: var(--fill-color);\n",
              "    }\n",
              "    20% {\n",
              "      border-color: transparent;\n",
              "      border-left-color: var(--fill-color);\n",
              "      border-top-color: var(--fill-color);\n",
              "    }\n",
              "    30% {\n",
              "      border-color: transparent;\n",
              "      border-left-color: var(--fill-color);\n",
              "      border-top-color: var(--fill-color);\n",
              "      border-right-color: var(--fill-color);\n",
              "    }\n",
              "    40% {\n",
              "      border-color: transparent;\n",
              "      border-right-color: var(--fill-color);\n",
              "      border-top-color: var(--fill-color);\n",
              "    }\n",
              "    60% {\n",
              "      border-color: transparent;\n",
              "      border-right-color: var(--fill-color);\n",
              "    }\n",
              "    80% {\n",
              "      border-color: transparent;\n",
              "      border-right-color: var(--fill-color);\n",
              "      border-bottom-color: var(--fill-color);\n",
              "    }\n",
              "    90% {\n",
              "      border-color: transparent;\n",
              "      border-bottom-color: var(--fill-color);\n",
              "    }\n",
              "  }\n",
              "</style>\n",
              "\n",
              "  <script>\n",
              "    async function quickchart(key) {\n",
              "      const quickchartButtonEl =\n",
              "        document.querySelector('#' + key + ' button');\n",
              "      quickchartButtonEl.disabled = true;  // To prevent multiple clicks.\n",
              "      quickchartButtonEl.classList.add('colab-df-spinner');\n",
              "      try {\n",
              "        const charts = await google.colab.kernel.invokeFunction(\n",
              "            'suggestCharts', [key], {});\n",
              "      } catch (error) {\n",
              "        console.error('Error during call to suggestCharts:', error);\n",
              "      }\n",
              "      quickchartButtonEl.classList.remove('colab-df-spinner');\n",
              "      quickchartButtonEl.classList.add('colab-df-quickchart-complete');\n",
              "    }\n",
              "    (() => {\n",
              "      let quickchartButtonEl =\n",
              "        document.querySelector('#df-ea9e6dbd-7540-4591-bfe0-c6ac257ddc70 button');\n",
              "      quickchartButtonEl.style.display =\n",
              "        google.colab.kernel.accessAllowed ? 'block' : 'none';\n",
              "    })();\n",
              "  </script>\n",
              "</div>\n",
              "    </div>\n",
              "  </div>\n"
            ]
          },
          "metadata": {},
          "execution_count": 51
        }
      ]
    },
    {
      "cell_type": "markdown",
      "source": [
        "**Separate the Dependent and Independent Variable (Selected Features)**"
      ],
      "metadata": {
        "id": "BIuexOkgT4oe"
      }
    },
    {
      "cell_type": "code",
      "source": [
        "X_feat = df_new.drop(columns=['Credit_Score'])\n",
        "y = df['Credit_Score']"
      ],
      "metadata": {
        "id": "XnHUYg0WLwcd"
      },
      "execution_count": 52,
      "outputs": []
    },
    {
      "cell_type": "markdown",
      "source": [
        "**Split the Data into Train and Test (Selected Features)**"
      ],
      "metadata": {
        "id": "LPrNI9M_UMeA"
      }
    },
    {
      "cell_type": "code",
      "source": [
        "X_train_feat, X_test_feat, y_train, y_test = train_test_split(X_feat, y, test_size = 0.25, random_state = 42)"
      ],
      "metadata": {
        "id": "E-hZdsyfMFXJ"
      },
      "execution_count": 53,
      "outputs": []
    },
    {
      "cell_type": "markdown",
      "source": [
        "**Evaluate the model with Selected Features**"
      ],
      "metadata": {
        "id": "s96thPY0iWy3"
      }
    },
    {
      "cell_type": "code",
      "source": [
        "print(\"Logistic Regression:\")\n",
        "Logis_reg(X_train_feat, X_test_feat, y_train, y_test)\n",
        "print(\"Gaussian Naive Bayes Classifier:\")\n",
        "gaus_class(X_train_feat, X_test_feat, y_train, y_test)\n",
        "print(\"Support Vector Classifier - without Gamma\")\n",
        "svcWithOutParam(X_train_feat, X_test_feat, y_train, y_test)\n",
        "print(\"Support Vector Classifier - with Gamma\")\n",
        "svcWithGamma(X_train_feat, X_test_feat, y_train, y_test)"
      ],
      "metadata": {
        "colab": {
          "base_uri": "https://localhost:8080/"
        },
        "id": "zNI5zab3iz7T",
        "outputId": "f28df3ff-5d6c-4a4d-eb59-f7273830736f"
      },
      "execution_count": 54,
      "outputs": [
        {
          "output_type": "stream",
          "name": "stdout",
          "text": [
            "Logistic Regression:\n",
            "[[ 66   5 161]\n",
            " [ 11 116 246]\n",
            " [ 68 115 462]]\n",
            "              precision    recall  f1-score   support\n",
            "\n",
            "           0       0.46      0.28      0.35       232\n",
            "           1       0.49      0.31      0.38       373\n",
            "           2       0.53      0.72      0.61       645\n",
            "\n",
            "    accuracy                           0.52      1250\n",
            "   macro avg       0.49      0.44      0.45      1250\n",
            "weighted avg       0.51      0.52      0.49      1250\n",
            "\n",
            "Gaussian Naive Bayes Classifier:\n",
            "[[178  10  44]\n",
            " [ 53 269  51]\n",
            " [192 156 297]]\n",
            "              precision    recall  f1-score   support\n",
            "\n",
            "           0       0.42      0.77      0.54       232\n",
            "           1       0.62      0.72      0.67       373\n",
            "           2       0.76      0.46      0.57       645\n",
            "\n",
            "    accuracy                           0.60      1250\n",
            "   macro avg       0.60      0.65      0.59      1250\n",
            "weighted avg       0.65      0.60      0.60      1250\n",
            "\n",
            "Support Vector Classifier - without Gamma\n"
          ]
        },
        {
          "output_type": "stream",
          "name": "stderr",
          "text": [
            "/usr/local/lib/python3.10/dist-packages/sklearn/linear_model/_logistic.py:458: ConvergenceWarning: lbfgs failed to converge (status=1):\n",
            "STOP: TOTAL NO. of ITERATIONS REACHED LIMIT.\n",
            "\n",
            "Increase the number of iterations (max_iter) or scale the data as shown in:\n",
            "    https://scikit-learn.org/stable/modules/preprocessing.html\n",
            "Please also refer to the documentation for alternative solver options:\n",
            "    https://scikit-learn.org/stable/modules/linear_model.html#logistic-regression\n",
            "  n_iter_i = _check_optimize_result(\n"
          ]
        },
        {
          "output_type": "stream",
          "name": "stdout",
          "text": [
            "[[  0   0 232]\n",
            " [  0   0 373]\n",
            " [  0   0 645]]\n",
            "              precision    recall  f1-score   support\n",
            "\n",
            "           0       0.00      0.00      0.00       232\n",
            "           1       0.00      0.00      0.00       373\n",
            "           2       0.52      1.00      0.68       645\n",
            "\n",
            "    accuracy                           0.52      1250\n",
            "   macro avg       0.17      0.33      0.23      1250\n",
            "weighted avg       0.27      0.52      0.35      1250\n",
            "\n",
            "Support Vector Classifier - with Gamma\n"
          ]
        },
        {
          "output_type": "stream",
          "name": "stderr",
          "text": [
            "/usr/local/lib/python3.10/dist-packages/sklearn/metrics/_classification.py:1344: UndefinedMetricWarning: Precision and F-score are ill-defined and being set to 0.0 in labels with no predicted samples. Use `zero_division` parameter to control this behavior.\n",
            "  _warn_prf(average, modifier, msg_start, len(result))\n",
            "/usr/local/lib/python3.10/dist-packages/sklearn/metrics/_classification.py:1344: UndefinedMetricWarning: Precision and F-score are ill-defined and being set to 0.0 in labels with no predicted samples. Use `zero_division` parameter to control this behavior.\n",
            "  _warn_prf(average, modifier, msg_start, len(result))\n",
            "/usr/local/lib/python3.10/dist-packages/sklearn/metrics/_classification.py:1344: UndefinedMetricWarning: Precision and F-score are ill-defined and being set to 0.0 in labels with no predicted samples. Use `zero_division` parameter to control this behavior.\n",
            "  _warn_prf(average, modifier, msg_start, len(result))\n"
          ]
        },
        {
          "output_type": "stream",
          "name": "stdout",
          "text": [
            "[[  2   0 230]\n",
            " [  0  15 358]\n",
            " [  0   1 644]]\n",
            "              precision    recall  f1-score   support\n",
            "\n",
            "           0       1.00      0.01      0.02       232\n",
            "           1       0.94      0.04      0.08       373\n",
            "           2       0.52      1.00      0.69       645\n",
            "\n",
            "    accuracy                           0.53      1250\n",
            "   macro avg       0.82      0.35      0.26      1250\n",
            "weighted avg       0.74      0.53      0.38      1250\n",
            "\n"
          ]
        }
      ]
    },
    {
      "cell_type": "markdown",
      "source": [
        "**Scale the Data with Selected Features**"
      ],
      "metadata": {
        "id": "cP19JVfsmo9q"
      }
    },
    {
      "cell_type": "markdown",
      "source": [
        "**Standard Scaler**"
      ],
      "metadata": {
        "id": "xehBGYH2pWD7"
      }
    },
    {
      "cell_type": "code",
      "source": [
        "std = StandardScaler()\n",
        "X_std_feat = std.fit_transform(X_feat)\n",
        "\n",
        "X_train_std_feat, X_test_std_feat, y_train, y_test = train_test_split(X_std_feat, y, test_size = 0.25, random_state = 42)"
      ],
      "metadata": {
        "id": "a4VBvYnRpcRR"
      },
      "execution_count": 55,
      "outputs": []
    },
    {
      "cell_type": "code",
      "source": [
        "print(\"Logistic Regression:\")\n",
        "Logis_reg(X_train_std_feat, X_test_std_feat, y_train, y_test)\n",
        "print(\"Gaussian Naive Bayes Classifier:\")\n",
        "gaus_class(X_train_std_feat, X_test_std_feat, y_train, y_test)\n",
        "print(\"Support Vector Classifier - without Gamma\")\n",
        "svcWithOutParam(X_train_std_feat, X_test_std_feat, y_train, y_test)\n",
        "print(\"Support Vector Classifier - with Gamma\")\n",
        "svcWithGamma(X_train_std_feat, X_test_std_feat, y_train, y_test)"
      ],
      "metadata": {
        "colab": {
          "base_uri": "https://localhost:8080/"
        },
        "id": "XUXqHXDxp3LF",
        "outputId": "6b11a534-aea5-4ba4-fce8-4d007280e9af"
      },
      "execution_count": 56,
      "outputs": [
        {
          "output_type": "stream",
          "name": "stdout",
          "text": [
            "Logistic Regression:\n",
            "[[144   6  82]\n",
            " [ 23 192 158]\n",
            " [ 86 102 457]]\n",
            "              precision    recall  f1-score   support\n",
            "\n",
            "           0       0.57      0.62      0.59       232\n",
            "           1       0.64      0.51      0.57       373\n",
            "           2       0.66      0.71      0.68       645\n",
            "\n",
            "    accuracy                           0.63      1250\n",
            "   macro avg       0.62      0.61      0.62      1250\n",
            "weighted avg       0.63      0.63      0.63      1250\n",
            "\n",
            "Gaussian Naive Bayes Classifier:\n",
            "[[179  10  43]\n",
            " [ 56 264  53]\n",
            " [144 152 349]]\n",
            "              precision    recall  f1-score   support\n",
            "\n",
            "           0       0.47      0.77      0.59       232\n",
            "           1       0.62      0.71      0.66       373\n",
            "           2       0.78      0.54      0.64       645\n",
            "\n",
            "    accuracy                           0.63      1250\n",
            "   macro avg       0.63      0.67      0.63      1250\n",
            "weighted avg       0.68      0.63      0.64      1250\n",
            "\n",
            "Support Vector Classifier - without Gamma\n",
            "[[185   0  47]\n",
            " [ 39 247  87]\n",
            " [ 98  78 469]]\n",
            "              precision    recall  f1-score   support\n",
            "\n",
            "           0       0.57      0.80      0.67       232\n",
            "           1       0.76      0.66      0.71       373\n",
            "           2       0.78      0.73      0.75       645\n",
            "\n",
            "    accuracy                           0.72      1250\n",
            "   macro avg       0.70      0.73      0.71      1250\n",
            "weighted avg       0.73      0.72      0.72      1250\n",
            "\n",
            "Support Vector Classifier - with Gamma\n",
            "[[185   0  47]\n",
            " [ 39 247  87]\n",
            " [ 98  78 469]]\n",
            "              precision    recall  f1-score   support\n",
            "\n",
            "           0       0.57      0.80      0.67       232\n",
            "           1       0.76      0.66      0.71       373\n",
            "           2       0.78      0.73      0.75       645\n",
            "\n",
            "    accuracy                           0.72      1250\n",
            "   macro avg       0.70      0.73      0.71      1250\n",
            "weighted avg       0.73      0.72      0.72      1250\n",
            "\n"
          ]
        }
      ]
    },
    {
      "cell_type": "markdown",
      "source": [
        "**MinMax Scaling**"
      ],
      "metadata": {
        "id": "aOBh9QNBqQp4"
      }
    },
    {
      "cell_type": "code",
      "source": [
        "min_max = MinMaxScaler()\n",
        "X_mm_feat = min_max.fit_transform(X_feat)\n",
        "\n",
        "X_train_mm_feat, X_test_mm_feat, y_train, y_test = train_test_split(X_mm_feat, y, test_size = 0.25, random_state = 42)"
      ],
      "metadata": {
        "id": "D49Rg08gqbnw"
      },
      "execution_count": 57,
      "outputs": []
    },
    {
      "cell_type": "code",
      "source": [
        "print(\"Logistic Regression:\")\n",
        "Logis_reg(X_train_mm_feat, X_test_mm_feat, y_train, y_test)\n",
        "print(\"Gaussian Naive Bayes Classifier:\")\n",
        "gaus_class(X_train_mm_feat, X_test_mm_feat, y_train, y_test)\n",
        "print(\"Support Vector Classifier - without Gamma\")\n",
        "svcWithOutParam(X_train_mm_feat, X_test_mm_feat, y_train, y_test)\n",
        "print(\"Support Vector Classifier - with Gamma\")\n",
        "svcWithGamma(X_train_mm_feat, X_test_mm_feat, y_train, y_test)"
      ],
      "metadata": {
        "colab": {
          "base_uri": "https://localhost:8080/"
        },
        "id": "a8oH9GVOqitv",
        "outputId": "953df28e-5978-4d16-9958-8ef7088aeb1b"
      },
      "execution_count": 58,
      "outputs": [
        {
          "output_type": "stream",
          "name": "stdout",
          "text": [
            "Logistic Regression:\n",
            "[[148   6  78]\n",
            " [ 22 191 160]\n",
            " [ 86 103 456]]\n",
            "              precision    recall  f1-score   support\n",
            "\n",
            "           0       0.58      0.64      0.61       232\n",
            "           1       0.64      0.51      0.57       373\n",
            "           2       0.66      0.71      0.68       645\n",
            "\n",
            "    accuracy                           0.64      1250\n",
            "   macro avg       0.62      0.62      0.62      1250\n",
            "weighted avg       0.64      0.64      0.63      1250\n",
            "\n",
            "Gaussian Naive Bayes Classifier:\n",
            "[[179  10  43]\n",
            " [ 56 264  53]\n",
            " [144 152 349]]\n",
            "              precision    recall  f1-score   support\n",
            "\n",
            "           0       0.47      0.77      0.59       232\n",
            "           1       0.62      0.71      0.66       373\n",
            "           2       0.78      0.54      0.64       645\n",
            "\n",
            "    accuracy                           0.63      1250\n",
            "   macro avg       0.63      0.67      0.63      1250\n",
            "weighted avg       0.68      0.63      0.64      1250\n",
            "\n",
            "Support Vector Classifier - without Gamma\n",
            "[[187   0  45]\n",
            " [ 54 225  94]\n",
            " [112  75 458]]\n",
            "              precision    recall  f1-score   support\n",
            "\n",
            "           0       0.53      0.81      0.64       232\n",
            "           1       0.75      0.60      0.67       373\n",
            "           2       0.77      0.71      0.74       645\n",
            "\n",
            "    accuracy                           0.70      1250\n",
            "   macro avg       0.68      0.71      0.68      1250\n",
            "weighted avg       0.72      0.70      0.70      1250\n",
            "\n",
            "Support Vector Classifier - with Gamma\n",
            "[[183   8  41]\n",
            " [ 60 221  92]\n",
            " [130 115 400]]\n",
            "              precision    recall  f1-score   support\n",
            "\n",
            "           0       0.49      0.79      0.60       232\n",
            "           1       0.64      0.59      0.62       373\n",
            "           2       0.75      0.62      0.68       645\n",
            "\n",
            "    accuracy                           0.64      1250\n",
            "   macro avg       0.63      0.67      0.63      1250\n",
            "weighted avg       0.67      0.64      0.65      1250\n",
            "\n"
          ]
        }
      ]
    },
    {
      "cell_type": "code",
      "source": [],
      "metadata": {
        "id": "MnDMvVf_d5oB"
      },
      "execution_count": null,
      "outputs": []
    }
  ]
}